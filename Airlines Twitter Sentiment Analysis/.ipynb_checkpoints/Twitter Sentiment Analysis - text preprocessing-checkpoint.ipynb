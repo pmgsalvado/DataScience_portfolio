{
 "cells": [
  {
   "cell_type": "markdown",
   "id": "1766a11e",
   "metadata": {},
   "source": [
    "\n",
    "<h1 style=\"text-align:center;\">Airline Twitter Sentiment Analysis</h1>"
   ]
  },
  {
   "cell_type": "code",
   "execution_count": 1,
   "id": "f35f6bd8",
   "metadata": {},
   "outputs": [],
   "source": [
    "import os\n",
    "import numpy as np\n",
    "import pandas as pd\n",
    "from tqdm import tqdm\n",
    "\n",
    "import unicodedata\n",
    "\n",
    "# emoji library\n",
    "from emoji import unicode_codes\n",
    "emojis = unicode_codes.get_emoji_unicode_dict(lang='en')\n",
    "import nltk\n",
    "from nltk.corpus import stopwords\n",
    "from string import punctuation\n",
    "import contractions\n",
    "STOPWORDS = set(stopwords.words('english'))\n",
    "#visualization\n",
    "import matplotlib.pyplot as plt\n",
    "import seaborn as sns\n",
    "import plotly.express as px\n",
    "\n",
    "# webscrap for airport IATA codes - Use Selenium for that purpose\n",
    "from selenium import webdriver   # for webdriver\n",
    "from selenium.webdriver.support.ui import WebDriverWait  # for implicit and explict waits\n",
    "from selenium.webdriver.chrome.options import Options  # for suppressing the browser\n",
    "\n",
    "# set the driver\n",
    "options = webdriver.ChromeOptions()\n",
    "options.add_argument('--ignore-certificate-errors')\n",
    "options.add_argument('--incognito')\n",
    "options.add_argument('--headless')\n",
    "driver = webdriver.Chrome(options=options)\n",
    "\n",
    "# Beautiful Soup\n",
    "from bs4 import BeautifulSoup\n",
    "\n",
    "#regex\n",
    "import re\n",
    "\n",
    "import chardet"
   ]
  },
  {
   "cell_type": "code",
   "execution_count": 2,
   "id": "365c59b9",
   "metadata": {},
   "outputs": [
    {
     "name": "stdout",
     "output_type": "stream",
     "text": [
      "/home/salvado/Desktop/github/DataScience_portfolio/Airlines Twitter Sentiment Analysis\r\n"
     ]
    }
   ],
   "source": [
    "!pwd"
   ]
  },
  {
   "cell_type": "code",
   "execution_count": 3,
   "id": "11a57611",
   "metadata": {},
   "outputs": [
    {
     "data": {
      "text/plain": [
       "['Twitter Sentiment Analysis.ipynb',\n",
       " 'Airline-Sentiment-2-w-AA.csv',\n",
       " '.ipynb_checkpoints']"
      ]
     },
     "execution_count": 3,
     "metadata": {},
     "output_type": "execute_result"
    }
   ],
   "source": [
    "data_dir = \"/home/salvado/Documents/TensorFlow/Pratice/Twitter Sentiment Analysis\"\n",
    "os.listdir(data_dir)"
   ]
  },
  {
   "cell_type": "code",
   "execution_count": 4,
   "id": "d0ab228d",
   "metadata": {},
   "outputs": [
    {
     "data": {
      "text/html": [
       "<div>\n",
       "<style scoped>\n",
       "    .dataframe tbody tr th:only-of-type {\n",
       "        vertical-align: middle;\n",
       "    }\n",
       "\n",
       "    .dataframe tbody tr th {\n",
       "        vertical-align: top;\n",
       "    }\n",
       "\n",
       "    .dataframe thead th {\n",
       "        text-align: right;\n",
       "    }\n",
       "</style>\n",
       "<table border=\"1\" class=\"dataframe\">\n",
       "  <thead>\n",
       "    <tr style=\"text-align: right;\">\n",
       "      <th></th>\n",
       "      <th>_unit_id</th>\n",
       "      <th>_golden</th>\n",
       "      <th>_unit_state</th>\n",
       "      <th>_trusted_judgments</th>\n",
       "      <th>_last_judgment_at</th>\n",
       "      <th>airline_sentiment</th>\n",
       "      <th>airline_sentiment:confidence</th>\n",
       "      <th>negativereason</th>\n",
       "      <th>negativereason:confidence</th>\n",
       "      <th>airline</th>\n",
       "      <th>airline_sentiment_gold</th>\n",
       "      <th>name</th>\n",
       "      <th>negativereason_gold</th>\n",
       "      <th>retweet_count</th>\n",
       "      <th>text</th>\n",
       "      <th>tweet_coord</th>\n",
       "      <th>tweet_created</th>\n",
       "      <th>tweet_id</th>\n",
       "      <th>tweet_location</th>\n",
       "      <th>user_timezone</th>\n",
       "    </tr>\n",
       "  </thead>\n",
       "  <tbody>\n",
       "    <tr>\n",
       "      <th>0</th>\n",
       "      <td>681448150</td>\n",
       "      <td>False</td>\n",
       "      <td>finalized</td>\n",
       "      <td>3</td>\n",
       "      <td>2/25/15 5:24</td>\n",
       "      <td>neutral</td>\n",
       "      <td>1.0000</td>\n",
       "      <td>NaN</td>\n",
       "      <td>NaN</td>\n",
       "      <td>Virgin America</td>\n",
       "      <td>NaN</td>\n",
       "      <td>cairdin</td>\n",
       "      <td>NaN</td>\n",
       "      <td>0</td>\n",
       "      <td>@VirginAmerica What @dhepburn said.</td>\n",
       "      <td>NaN</td>\n",
       "      <td>2/24/15 11:35</td>\n",
       "      <td>5.703060e+17</td>\n",
       "      <td>NaN</td>\n",
       "      <td>Eastern Time (US &amp; Canada)</td>\n",
       "    </tr>\n",
       "    <tr>\n",
       "      <th>1</th>\n",
       "      <td>681448153</td>\n",
       "      <td>False</td>\n",
       "      <td>finalized</td>\n",
       "      <td>3</td>\n",
       "      <td>2/25/15 1:53</td>\n",
       "      <td>positive</td>\n",
       "      <td>0.3486</td>\n",
       "      <td>NaN</td>\n",
       "      <td>0.0</td>\n",
       "      <td>Virgin America</td>\n",
       "      <td>NaN</td>\n",
       "      <td>jnardino</td>\n",
       "      <td>NaN</td>\n",
       "      <td>0</td>\n",
       "      <td>@VirginAmerica plus you've added commercials t...</td>\n",
       "      <td>NaN</td>\n",
       "      <td>2/24/15 11:15</td>\n",
       "      <td>5.703010e+17</td>\n",
       "      <td>NaN</td>\n",
       "      <td>Pacific Time (US &amp; Canada)</td>\n",
       "    </tr>\n",
       "  </tbody>\n",
       "</table>\n",
       "</div>"
      ],
      "text/plain": [
       "    _unit_id  _golden _unit_state  _trusted_judgments _last_judgment_at  \\\n",
       "0  681448150    False   finalized                   3      2/25/15 5:24   \n",
       "1  681448153    False   finalized                   3      2/25/15 1:53   \n",
       "\n",
       "  airline_sentiment  airline_sentiment:confidence negativereason  \\\n",
       "0           neutral                        1.0000            NaN   \n",
       "1          positive                        0.3486            NaN   \n",
       "\n",
       "   negativereason:confidence         airline airline_sentiment_gold      name  \\\n",
       "0                        NaN  Virgin America                    NaN   cairdin   \n",
       "1                        0.0  Virgin America                    NaN  jnardino   \n",
       "\n",
       "  negativereason_gold  retweet_count  \\\n",
       "0                 NaN              0   \n",
       "1                 NaN              0   \n",
       "\n",
       "                                                text tweet_coord  \\\n",
       "0                @VirginAmerica What @dhepburn said.         NaN   \n",
       "1  @VirginAmerica plus you've added commercials t...         NaN   \n",
       "\n",
       "   tweet_created      tweet_id tweet_location               user_timezone  \n",
       "0  2/24/15 11:35  5.703060e+17            NaN  Eastern Time (US & Canada)  \n",
       "1  2/24/15 11:15  5.703010e+17            NaN  Pacific Time (US & Canada)  "
      ]
     },
     "execution_count": 4,
     "metadata": {},
     "output_type": "execute_result"
    }
   ],
   "source": [
    "airline_reviews = pd.read_csv(\"Airline-Sentiment-2-w-AA.csv\", encoding='ISO-8859-1')\n",
    "airline_reviews.head(2)"
   ]
  },
  {
   "cell_type": "code",
   "execution_count": 5,
   "id": "ef420baa",
   "metadata": {},
   "outputs": [
    {
     "data": {
      "text/plain": [
       "(14640, 20)"
      ]
     },
     "execution_count": 5,
     "metadata": {},
     "output_type": "execute_result"
    }
   ],
   "source": [
    "airline_reviews.shape"
   ]
  },
  {
   "cell_type": "markdown",
   "id": "bd9d5b62",
   "metadata": {},
   "source": [
    "<p>Let's separate and define our feature and target</p>"
   ]
  },
  {
   "cell_type": "code",
   "execution_count": 6,
   "id": "3fa3e4fe",
   "metadata": {},
   "outputs": [
    {
     "data": {
      "text/plain": [
       "(14640, 20)"
      ]
     },
     "execution_count": 6,
     "metadata": {},
     "output_type": "execute_result"
    }
   ],
   "source": [
    "# remove suplicates\n",
    "airline_reviews.drop_duplicates(inplace=True)\n",
    "airline_reviews.shape"
   ]
  },
  {
   "cell_type": "code",
   "execution_count": 7,
   "id": "720de4ab",
   "metadata": {},
   "outputs": [
    {
     "data": {
      "text/plain": [
       "Index(['airline_sentiment', 'airline', 'text'], dtype='object')"
      ]
     },
     "execution_count": 7,
     "metadata": {},
     "output_type": "execute_result"
    }
   ],
   "source": [
    "all_columns = airline_reviews\n",
    "features = ['text', 'airline', 'airline_sentiment']\n",
    "for column in all_columns:\n",
    "    if column not in features:\n",
    "        airline_reviews.drop(column, axis=1, inplace=True)\n",
    "        \n",
    "airline_reviews.columns"
   ]
  },
  {
   "cell_type": "markdown",
   "id": "93cbe266",
   "metadata": {},
   "source": [
    "<h4>Checking for null values</h4>"
   ]
  },
  {
   "cell_type": "code",
   "execution_count": 8,
   "id": "2a215e87",
   "metadata": {},
   "outputs": [
    {
     "data": {
      "text/plain": [
       "(0, 0, 0)"
      ]
     },
     "execution_count": 8,
     "metadata": {},
     "output_type": "execute_result"
    }
   ],
   "source": [
    "\n",
    "airline_reviews['airline_sentiment'].isna().sum(), airline_reviews['airline'].isna().sum(), airline_reviews['text'].isna().sum()"
   ]
  },
  {
   "cell_type": "markdown",
   "id": "632353c8",
   "metadata": {},
   "source": [
    "<h3>EDA on the data that we'll use.</h3>"
   ]
  },
  {
   "cell_type": "code",
   "execution_count": 9,
   "id": "9db83f7e",
   "metadata": {},
   "outputs": [
    {
     "data": {
      "text/plain": [
       "array(['Virgin America', 'United', 'Southwest', 'Delta', 'US Airways',\n",
       "       'American'], dtype=object)"
      ]
     },
     "execution_count": 9,
     "metadata": {},
     "output_type": "execute_result"
    }
   ],
   "source": [
    "airline = airline_reviews['airline'].unique()\n",
    "airline"
   ]
  },
  {
   "cell_type": "code",
   "execution_count": 10,
   "id": "0b248493",
   "metadata": {},
   "outputs": [
    {
     "data": {
      "text/plain": [
       "<AxesSubplot:xlabel='airline_sentiment', ylabel='Count'>"
      ]
     },
     "execution_count": 10,
     "metadata": {},
     "output_type": "execute_result"
    },
    {
     "data": {
      "image/png": "[encoded data removed]",
      "text/plain": [
       "<Figure size 640x480 with 1 Axes>"
      ]
     },
     "metadata": {},
     "output_type": "display_data"
    }
   ],
   "source": [
    "sns.histplot(data=airline_reviews, x= airline_reviews['airline_sentiment'], hue='airline')"
   ]
  },
  {
   "cell_type": "markdown",
   "id": "c0eb1654",
   "metadata": {},
   "source": [
    "<p>As was expected the amount of negative reviews is far greater than the neutral and positive combined.</p>\n",
    "<p>We have to take care of these imbalenced classes but will do after text pre-processing</p>"
   ]
  },
  {
   "cell_type": "markdown",
   "id": "b4ef937e",
   "metadata": {},
   "source": [
    "<p>Let's take a look at the text to see what we have to do.</p>"
   ]
  },
  {
   "cell_type": "code",
   "execution_count": 11,
   "id": "25f990ca",
   "metadata": {},
   "outputs": [
    {
     "data": {
      "text/plain": [
       "0                  @VirginAmerica What @dhepburn said.\n",
       "1    @VirginAmerica plus you've added commercials t...\n",
       "2    @VirginAmerica I didn't today... Must mean I n...\n",
       "3    @VirginAmerica it's really aggressive to blast...\n",
       "4    @VirginAmerica and it's a really big bad thing...\n",
       "5    @VirginAmerica seriously would pay $30 a fligh...\n",
       "6    @VirginAmerica yes, nearly every time I fly VX...\n",
       "7    @VirginAmerica Really missed a prime opportuni...\n",
       "8    @virginamerica Well, I didn'tÛ_but NOW I DO! :-D\n",
       "9    @VirginAmerica it was amazing, and arrived an ...\n",
       "Name: text, dtype: object"
      ]
     },
     "execution_count": 11,
     "metadata": {},
     "output_type": "execute_result"
    }
   ],
   "source": [
    "airline_reviews['text'][0:10]"
   ]
  },
  {
   "cell_type": "markdown",
   "id": "d96023b8",
   "metadata": {},
   "source": [
    "<p>At a first glance we have to take care of removing the:</p>\n",
    "<ul>\n",
    "    <li>@ airline name   - <b>check</b></li>\n",
    "    <li>@ random names - <b>check</b></li>\n",
    "    <li>URLs - <b>check</b></li>\n",
    "    <li>symbols - <b>check</b></li>\n",
    "    <li>time structures</li>\n",
    "    <li>flight information acronyms for airports (webscrap: <a href=\"http://www.airportcodes.org/#international\">Airport Codes</a>) - <b>check</b></li>\n",
    "    <li>emoji handling (remove in a first place, then test with them).\n",
    "        <a href=\"https://studymachinelearning.com/text-preprocessing-handle-emoji-emoticon/\">Handling Emojis Emotions</a> - <b>check</b>\n",
    "    </li>\n",
    "    <li>emoticon handling (remove in a first place, then test with them.\n",
    "        <a href=\"https://en.wikipedia.org/wiki/List_of_emoticons\">Wikipedia Emoticon List</a> - <b>check</b>\n",
    "    </li>\n",
    "</ul>\n",
    "\n",
    "<p>Let's start with text preprocessing.</p>"
   ]
  },
  {
   "cell_type": "markdown",
   "id": "60dccdfd",
   "metadata": {},
   "source": [
    "<p>Getting the Airport acronyms from the website and create a list with each <b>(WebScrapping)</b></p>"
   ]
  },
  {
   "cell_type": "code",
   "execution_count": 12,
   "id": "6aaf6f5f",
   "metadata": {},
   "outputs": [],
   "source": [
    "# run once is enough:\n",
    "web = \"http://www.airportcodes.org/#international\"\n",
    "driver.get(web)\n",
    "airports_soup = BeautifulSoup(driver.page_source)\n",
    "table = airports_soup.find_all('table')\n",
    "airport_codes = []\n",
    "for airport in table[0].find_all('td')[0].get_text().split('\\n'):\n",
    "    if re.search(r\".*?\\(\", airport):\n",
    "        try:\n",
    "            airport_codes.append(re.findall('\\(.*?\\)', airport)[0][1:-1])\n",
    "        except IndexError:\n",
    "            continue\n"
   ]
  },
  {
   "cell_type": "code",
   "execution_count": 13,
   "id": "f072b9a2",
   "metadata": {},
   "outputs": [],
   "source": [
    "# airlines codes:\n",
    "airlines_codes = ['DAL', 'VX', 'UA', 'SWA', 'US', 'AA']\n",
    "\n",
    "# url (http|https) removal\n",
    "url_extract_pattern = \"https?:\\\\/\\\\/(?:www\\\\.)?[-a-zA-Z0-9@:%._\\\\+~#=]{1,256}\\\\.[a-zA-Z0-9()]{1,6}\\\\b(?:[-a-zA-Z0-9()@:%_\\\\+.~#?&\\\\/=]*)\""
   ]
  },
  {
   "cell_type": "markdown",
   "id": "7659e754",
   "metadata": {},
   "source": [
    "<p>Getting a list of emoticons from wikipedia <b>(WebScrapping)</b></p>"
   ]
  },
  {
   "cell_type": "code",
   "execution_count": 14,
   "id": "7bed4f8f",
   "metadata": {},
   "outputs": [],
   "source": [
    "web = 'https://en.wikipedia.org/wiki/List_of_emoticons'\n",
    "driver.get(web)\n",
    "emoticons_soup = BeautifulSoup(driver.page_source)\n",
    "table_1 = emoticons_soup.find_all('table', class_='wikitable')[0]\n",
    "rows_table = table_1.find_all('tr')[1:]\n",
    "row1 = rows_table[0]\n",
    "row1.find_all('td')[0].get_text(strip=True, separator='\\n').split('\\n')\n",
    "emoticon_list = []\n",
    "for row in rows_table:\n",
    "    # emoticon = re.sub(u'\\u2011', '-', row.find_all('td')[0].get_text(strip=True, separator='\\n').split('\\n'))\n",
    "    emoticon_list.extend(row.find_all('td')[0].get_text(strip=True, separator='\\n').split('\\n'))\n",
    "    # emoticon_list.extend(emoticon)\n",
    "for idx in range(len(emoticon_list)):\n",
    "    emoticon_list[idx] = re.sub(u'\\u2011', '-',emoticon_list[idx]) \n",
    "    \n",
    "def check_emoticons(word):\n",
    "    \"\"\"\n",
    "        Function to check if 'word' is emoji\n",
    "    \"\"\"\n",
    "    if word in emoticon_list:\n",
    "        return True\n",
    "    else:\n",
    "        return False"
   ]
  },
  {
   "cell_type": "code",
   "execution_count": 15,
   "id": "bd9f7f30",
   "metadata": {},
   "outputs": [],
   "source": [
    "def check_emojis(word):\n",
    "    \"\"\"\n",
    "        Function to check if 'word' is emoji\n",
    "    \"\"\"\n",
    "    if word in emojis.values():\n",
    "        return True\n",
    "    else:\n",
    "        return False"
   ]
  },
  {
   "cell_type": "code",
   "execution_count": 20,
   "id": "9df8f75c",
   "metadata": {},
   "outputs": [],
   "source": [
    "def text_preprocessing(text_base):\n",
    "    \"\"\"\n",
    "        THis function is responsible to remove \n",
    "    \"\"\"\n",
    "    # text normalization\n",
    "    text_base = unicodedata.normalize('NFKD', text_base).encode('ascii', 'ignore').decode('utf-8', 'ignore')\n",
    "    \n",
    "    # remove emoticons  (at this stage we'll remove emojis but they might be important to sentiment analysis)\n",
    "    text_base = ' '.join([word for word in text_base.split() if not check_emoticons(word)])\n",
    "    \n",
    "    # remove emojis  (at this stage we'll remove emojis but they might be important to sentiment analysis)\n",
    "    text_base = ' '.join([word for word in text_base.split() if not check_emojis(word)])\n",
    "    \n",
    "    # remove links\n",
    "    text_base =' '.join([word for word in text_base.split() if not re.search(url_extract_pattern, word)])\n",
    "\n",
    "    # remove @word\n",
    "    text_base = ' '.join([word for word in text_base.split() if not re.search('^@', word)])\n",
    "\n",
    "    # remove #word\n",
    "    text_base = ' '.join([word for word in text_base.split() if not re.search('^#', word)])\n",
    "\n",
    "    # replace contraction with word(s)\n",
    "    text_base = ' '.join([contractions.contractions_dict[word] if word in list(contractions.contractions_dict.keys()) else word for word in text_base.split()])\n",
    "\n",
    "    # remove airport codes\n",
    "    text_base = ' '.join([word if not word in airport_codes else '' for word in text_base.split()])\n",
    "\n",
    "    # remove airline codes\n",
    "    text_base = ' '.join([word if not word in airlines_codes else '' for word in text_base.split()])\n",
    "\n",
    "    # remove punctuantion\n",
    "    text_base = ''.join([' ' if element in punctuation else element for element in text_base ])\n",
    "    \n",
    "    # lowercase\n",
    "    \n",
    "    text_base = text_base.lower()\n",
    "    \n",
    "    return text_base"
   ]
  },
  {
   "cell_type": "markdown",
   "id": "164c2885",
   "metadata": {},
   "source": [
    "<h3>Proceed with text preprocessing using the function defined above.</h3>"
   ]
  },
  {
   "cell_type": "code",
   "execution_count": 21,
   "id": "971af843",
   "metadata": {},
   "outputs": [
    {
     "name": "stderr",
     "output_type": "stream",
     "text": [
      "100%|████████████████████████████████████| 14640/14640 [00:35<00:00, 415.19it/s]\n"
     ]
    }
   ],
   "source": [
    "airline_reviews_text_preprocessed = []\n",
    "for tweet in tqdm(airline_reviews['text']):\n",
    "    airline_reviews_text_preprocessed.append(text_preprocessing(tweet))"
   ]
  },
  {
   "cell_type": "code",
   "execution_count": 22,
   "id": "392afede",
   "metadata": {},
   "outputs": [
    {
     "data": {
      "text/html": [
       "<div>\n",
       "<style scoped>\n",
       "    .dataframe tbody tr th:only-of-type {\n",
       "        vertical-align: middle;\n",
       "    }\n",
       "\n",
       "    .dataframe tbody tr th {\n",
       "        vertical-align: top;\n",
       "    }\n",
       "\n",
       "    .dataframe thead th {\n",
       "        text-align: right;\n",
       "    }\n",
       "</style>\n",
       "<table border=\"1\" class=\"dataframe\">\n",
       "  <thead>\n",
       "    <tr style=\"text-align: right;\">\n",
       "      <th></th>\n",
       "      <th>airline_sentiment</th>\n",
       "      <th>airline</th>\n",
       "      <th>text</th>\n",
       "      <th>text_preprocessed</th>\n",
       "    </tr>\n",
       "  </thead>\n",
       "  <tbody>\n",
       "    <tr>\n",
       "      <th>0</th>\n",
       "      <td>neutral</td>\n",
       "      <td>Virgin America</td>\n",
       "      <td>@VirginAmerica What @dhepburn said.</td>\n",
       "      <td>what said</td>\n",
       "    </tr>\n",
       "    <tr>\n",
       "      <th>1</th>\n",
       "      <td>positive</td>\n",
       "      <td>Virgin America</td>\n",
       "      <td>@VirginAmerica plus you've added commercials t...</td>\n",
       "      <td>plus you have added commercials to the experie...</td>\n",
       "    </tr>\n",
       "    <tr>\n",
       "      <th>2</th>\n",
       "      <td>neutral</td>\n",
       "      <td>Virgin America</td>\n",
       "      <td>@VirginAmerica I didn't today... Must mean I n...</td>\n",
       "      <td>i did not today    must mean i need to take an...</td>\n",
       "    </tr>\n",
       "    <tr>\n",
       "      <th>3</th>\n",
       "      <td>negative</td>\n",
       "      <td>Virgin America</td>\n",
       "      <td>@VirginAmerica it's really aggressive to blast...</td>\n",
       "      <td>it is really aggressive to blast obnoxious  en...</td>\n",
       "    </tr>\n",
       "    <tr>\n",
       "      <th>4</th>\n",
       "      <td>negative</td>\n",
       "      <td>Virgin America</td>\n",
       "      <td>@VirginAmerica and it's a really big bad thing...</td>\n",
       "      <td>and it is a really big bad thing about it</td>\n",
       "    </tr>\n",
       "    <tr>\n",
       "      <th>5</th>\n",
       "      <td>negative</td>\n",
       "      <td>Virgin America</td>\n",
       "      <td>@VirginAmerica seriously would pay $30 a fligh...</td>\n",
       "      <td>seriously would pay  30 a flight for seats tha...</td>\n",
       "    </tr>\n",
       "    <tr>\n",
       "      <th>6</th>\n",
       "      <td>positive</td>\n",
       "      <td>Virgin America</td>\n",
       "      <td>@VirginAmerica yes, nearly every time I fly VX...</td>\n",
       "      <td>yes  nearly every time i fly  this uiear wormu...</td>\n",
       "    </tr>\n",
       "    <tr>\n",
       "      <th>7</th>\n",
       "      <td>neutral</td>\n",
       "      <td>Virgin America</td>\n",
       "      <td>@VirginAmerica Really missed a prime opportuni...</td>\n",
       "      <td>really missed a prime opportunity for men with...</td>\n",
       "    </tr>\n",
       "    <tr>\n",
       "      <th>8</th>\n",
       "      <td>positive</td>\n",
       "      <td>Virgin America</td>\n",
       "      <td>@virginamerica Well, I didn'tÛ_but NOW I DO! :-D</td>\n",
       "      <td>well  i didn tu but now i do</td>\n",
       "    </tr>\n",
       "    <tr>\n",
       "      <th>9</th>\n",
       "      <td>positive</td>\n",
       "      <td>Virgin America</td>\n",
       "      <td>@VirginAmerica it was amazing, and arrived an ...</td>\n",
       "      <td>it was amazing  and arrived an hour early  you...</td>\n",
       "    </tr>\n",
       "  </tbody>\n",
       "</table>\n",
       "</div>"
      ],
      "text/plain": [
       "  airline_sentiment         airline  \\\n",
       "0           neutral  Virgin America   \n",
       "1          positive  Virgin America   \n",
       "2           neutral  Virgin America   \n",
       "3          negative  Virgin America   \n",
       "4          negative  Virgin America   \n",
       "5          negative  Virgin America   \n",
       "6          positive  Virgin America   \n",
       "7           neutral  Virgin America   \n",
       "8          positive  Virgin America   \n",
       "9          positive  Virgin America   \n",
       "\n",
       "                                                text  \\\n",
       "0                @VirginAmerica What @dhepburn said.   \n",
       "1  @VirginAmerica plus you've added commercials t...   \n",
       "2  @VirginAmerica I didn't today... Must mean I n...   \n",
       "3  @VirginAmerica it's really aggressive to blast...   \n",
       "4  @VirginAmerica and it's a really big bad thing...   \n",
       "5  @VirginAmerica seriously would pay $30 a fligh...   \n",
       "6  @VirginAmerica yes, nearly every time I fly VX...   \n",
       "7  @VirginAmerica Really missed a prime opportuni...   \n",
       "8  @virginamerica Well, I didn'tÛ_but NOW I DO! :-D   \n",
       "9  @VirginAmerica it was amazing, and arrived an ...   \n",
       "\n",
       "                                   text_preprocessed  \n",
       "0                                         what said   \n",
       "1  plus you have added commercials to the experie...  \n",
       "2  i did not today    must mean i need to take an...  \n",
       "3  it is really aggressive to blast obnoxious  en...  \n",
       "4          and it is a really big bad thing about it  \n",
       "5  seriously would pay  30 a flight for seats tha...  \n",
       "6  yes  nearly every time i fly  this uiear wormu...  \n",
       "7  really missed a prime opportunity for men with...  \n",
       "8                      well  i didn tu but now i do   \n",
       "9  it was amazing  and arrived an hour early  you...  "
      ]
     },
     "execution_count": 22,
     "metadata": {},
     "output_type": "execute_result"
    }
   ],
   "source": [
    "airline_reviews['text_preprocessed'] = airline_reviews_text_preprocessed\n",
    "del airline_reviews_text_preprocessed\n",
    "airline_reviews.head(10)"
   ]
  },
  {
   "cell_type": "code",
   "execution_count": 24,
   "id": "4e55fe27",
   "metadata": {},
   "outputs": [],
   "source": [
    "airline_reviews.to_csv('Airline-Sentiment_processed.csv', index=False)"
   ]
  }
 ],
 "metadata": {
  "kernelspec": {
   "display_name": "Python 3 (ipykernel)",
   "language": "python",
   "name": "python3"
  },
  "language_info": {
   "codemirror_mode": {
    "name": "ipython",
    "version": 3
   },
   "file_extension": ".py",
   "mimetype": "text/x-python",
   "name": "python",
   "nbconvert_exporter": "python",
   "pygments_lexer": "ipython3",
   "version": "3.10.6"
  }
 },
 "nbformat": 4,
 "nbformat_minor": 5
}
