{
 "cells": [
  {
   "cell_type": "markdown",
   "id": "1766a11e",
   "metadata": {},
   "source": [
    "\n",
    "<h1 style=\"text-align:center;\">Airline Twitter Sentiment Analysis</h1>"
   ]
  },
  {
   "cell_type": "code",
   "execution_count": 1,
   "id": "f35f6bd8",
   "metadata": {},
   "outputs": [],
   "source": [
    "import os\n",
    "import numpy as np\n",
    "import pandas as pd\n",
    "from tqdm import tqdm\n",
    "\n",
    "import unicodedata\n",
    "\n",
    "# emoji library\n",
    "from emoji import unicode_codes\n",
    "emojis = unicode_codes.get_emoji_unicode_dict(lang='en')\n",
    "import nltk\n",
    "from nltk.corpus import stopwords\n",
    "from string import punctuation\n",
    "import contractions\n",
    "STOPWORDS = set(stopwords.words('english'))\n",
    "\n",
    "# SpellChecker\n",
    "from spellchecker import SpellChecker\n",
    "spell = SpellChecker()\n",
    "\n",
    "# Textblob\n",
    "from textblob import Word\n",
    "\n",
    "#visualization\n",
    "import matplotlib.pyplot as plt\n",
    "import seaborn as sns\n",
    "import plotly.express as px\n",
    "\n",
    "# webscrap for airport IATA codes - Use Selenium for that purpose\n",
    "from selenium import webdriver   # for webdriver\n",
    "from selenium.webdriver.support.ui import WebDriverWait  # for implicit and explict waits\n",
    "from selenium.webdriver.chrome.options import Options  # for suppressing the browser\n",
    "\n",
    "# set the driver\n",
    "options = webdriver.ChromeOptions()\n",
    "options.add_argument('--ignore-certificate-errors')\n",
    "options.add_argument('--incognito')\n",
    "options.add_argument('--headless')\n",
    "driver = webdriver.Chrome(options=options)\n",
    "\n",
    "# Beautiful Soup\n",
    "from bs4 import BeautifulSoup\n",
    "\n",
    "#regex\n",
    "import re\n",
    "\n",
    "import chardet"
   ]
  },
  {
   "cell_type": "code",
   "execution_count": 21,
   "id": "365c59b9",
   "metadata": {},
   "outputs": [
    {
     "name": "stdout",
     "output_type": "stream",
     "text": [
      "/home/salvado/Desktop/github/DataScience_portfolio/Airlines Twitter Sentiment Analysis\r\n"
     ]
    }
   ],
   "source": [
    "!pwd"
   ]
  },
  {
   "cell_type": "code",
   "execution_count": 2,
   "id": "11a57611",
   "metadata": {},
   "outputs": [
    {
     "data": {
      "text/plain": [
       "['Twitter Sentiment Analysis.ipynb',\n",
       " 'Airline-Sentiment-2-w-AA.csv',\n",
       " '.ipynb_checkpoints']"
      ]
     },
     "execution_count": 2,
     "metadata": {},
     "output_type": "execute_result"
    }
   ],
   "source": [
    "data_dir = \"/home/salvado/Documents/TensorFlow/Pratice/Twitter Sentiment Analysis\"\n",
    "os.listdir(data_dir)"
   ]
  },
  {
   "cell_type": "code",
   "execution_count": 3,
   "id": "d0ab228d",
   "metadata": {},
   "outputs": [
    {
     "data": {
      "text/html": [
       "<div>\n",
       "<style scoped>\n",
       "    .dataframe tbody tr th:only-of-type {\n",
       "        vertical-align: middle;\n",
       "    }\n",
       "\n",
       "    .dataframe tbody tr th {\n",
       "        vertical-align: top;\n",
       "    }\n",
       "\n",
       "    .dataframe thead th {\n",
       "        text-align: right;\n",
       "    }\n",
       "</style>\n",
       "<table border=\"1\" class=\"dataframe\">\n",
       "  <thead>\n",
       "    <tr style=\"text-align: right;\">\n",
       "      <th></th>\n",
       "      <th>_unit_id</th>\n",
       "      <th>_golden</th>\n",
       "      <th>_unit_state</th>\n",
       "      <th>_trusted_judgments</th>\n",
       "      <th>_last_judgment_at</th>\n",
       "      <th>airline_sentiment</th>\n",
       "      <th>airline_sentiment:confidence</th>\n",
       "      <th>negativereason</th>\n",
       "      <th>negativereason:confidence</th>\n",
       "      <th>airline</th>\n",
       "      <th>airline_sentiment_gold</th>\n",
       "      <th>name</th>\n",
       "      <th>negativereason_gold</th>\n",
       "      <th>retweet_count</th>\n",
       "      <th>text</th>\n",
       "      <th>tweet_coord</th>\n",
       "      <th>tweet_created</th>\n",
       "      <th>tweet_id</th>\n",
       "      <th>tweet_location</th>\n",
       "      <th>user_timezone</th>\n",
       "    </tr>\n",
       "  </thead>\n",
       "  <tbody>\n",
       "    <tr>\n",
       "      <th>0</th>\n",
       "      <td>681448150</td>\n",
       "      <td>False</td>\n",
       "      <td>finalized</td>\n",
       "      <td>3</td>\n",
       "      <td>2/25/15 5:24</td>\n",
       "      <td>neutral</td>\n",
       "      <td>1.0000</td>\n",
       "      <td>NaN</td>\n",
       "      <td>NaN</td>\n",
       "      <td>Virgin America</td>\n",
       "      <td>NaN</td>\n",
       "      <td>cairdin</td>\n",
       "      <td>NaN</td>\n",
       "      <td>0</td>\n",
       "      <td>@VirginAmerica What @dhepburn said.</td>\n",
       "      <td>NaN</td>\n",
       "      <td>2/24/15 11:35</td>\n",
       "      <td>5.703060e+17</td>\n",
       "      <td>NaN</td>\n",
       "      <td>Eastern Time (US &amp; Canada)</td>\n",
       "    </tr>\n",
       "    <tr>\n",
       "      <th>1</th>\n",
       "      <td>681448153</td>\n",
       "      <td>False</td>\n",
       "      <td>finalized</td>\n",
       "      <td>3</td>\n",
       "      <td>2/25/15 1:53</td>\n",
       "      <td>positive</td>\n",
       "      <td>0.3486</td>\n",
       "      <td>NaN</td>\n",
       "      <td>0.0</td>\n",
       "      <td>Virgin America</td>\n",
       "      <td>NaN</td>\n",
       "      <td>jnardino</td>\n",
       "      <td>NaN</td>\n",
       "      <td>0</td>\n",
       "      <td>@VirginAmerica plus you've added commercials t...</td>\n",
       "      <td>NaN</td>\n",
       "      <td>2/24/15 11:15</td>\n",
       "      <td>5.703010e+17</td>\n",
       "      <td>NaN</td>\n",
       "      <td>Pacific Time (US &amp; Canada)</td>\n",
       "    </tr>\n",
       "  </tbody>\n",
       "</table>\n",
       "</div>"
      ],
      "text/plain": [
       "    _unit_id  _golden _unit_state  _trusted_judgments _last_judgment_at  \\\n",
       "0  681448150    False   finalized                   3      2/25/15 5:24   \n",
       "1  681448153    False   finalized                   3      2/25/15 1:53   \n",
       "\n",
       "  airline_sentiment  airline_sentiment:confidence negativereason  \\\n",
       "0           neutral                        1.0000            NaN   \n",
       "1          positive                        0.3486            NaN   \n",
       "\n",
       "   negativereason:confidence         airline airline_sentiment_gold      name  \\\n",
       "0                        NaN  Virgin America                    NaN   cairdin   \n",
       "1                        0.0  Virgin America                    NaN  jnardino   \n",
       "\n",
       "  negativereason_gold  retweet_count  \\\n",
       "0                 NaN              0   \n",
       "1                 NaN              0   \n",
       "\n",
       "                                                text tweet_coord  \\\n",
       "0                @VirginAmerica What @dhepburn said.         NaN   \n",
       "1  @VirginAmerica plus you've added commercials t...         NaN   \n",
       "\n",
       "   tweet_created      tweet_id tweet_location               user_timezone  \n",
       "0  2/24/15 11:35  5.703060e+17            NaN  Eastern Time (US & Canada)  \n",
       "1  2/24/15 11:15  5.703010e+17            NaN  Pacific Time (US & Canada)  "
      ]
     },
     "execution_count": 3,
     "metadata": {},
     "output_type": "execute_result"
    }
   ],
   "source": [
    "airline_reviews = pd.read_csv(\"Airline-Sentiment-2-w-AA.csv\", encoding='ISO-8859-1')\n",
    "airline_reviews.head(2)"
   ]
  },
  {
   "cell_type": "code",
   "execution_count": 4,
   "id": "2b459d88",
   "metadata": {},
   "outputs": [
    {
     "data": {
      "text/plain": [
       "0                           NaN\n",
       "1                           NaN\n",
       "2                           NaN\n",
       "3                    Bad Flight\n",
       "4                    Can't Tell\n",
       "                  ...          \n",
       "14635                       NaN\n",
       "14636    Customer Service Issue\n",
       "14637                       NaN\n",
       "14638    Customer Service Issue\n",
       "14639                       NaN\n",
       "Name: negativereason, Length: 14640, dtype: object"
      ]
     },
     "execution_count": 4,
     "metadata": {},
     "output_type": "execute_result"
    }
   ],
   "source": [
    "airline_reviews['negativereason']"
   ]
  },
  {
   "cell_type": "code",
   "execution_count": 113,
   "id": "ef420baa",
   "metadata": {},
   "outputs": [
    {
     "data": {
      "text/plain": [
       "(14640, 20)"
      ]
     },
     "execution_count": 113,
     "metadata": {},
     "output_type": "execute_result"
    }
   ],
   "source": [
    "airline_reviews.shape"
   ]
  },
  {
   "cell_type": "markdown",
   "id": "bd9d5b62",
   "metadata": {},
   "source": [
    "<p>Let's separate and define our feature and target</p>"
   ]
  },
  {
   "cell_type": "code",
   "execution_count": 114,
   "id": "3fa3e4fe",
   "metadata": {},
   "outputs": [
    {
     "data": {
      "text/plain": [
       "(14640, 20)"
      ]
     },
     "execution_count": 114,
     "metadata": {},
     "output_type": "execute_result"
    }
   ],
   "source": [
    "# remove suplicates\n",
    "airline_reviews.drop_duplicates(inplace=True)\n",
    "airline_reviews.shape"
   ]
  },
  {
   "cell_type": "code",
   "execution_count": 115,
   "id": "720de4ab",
   "metadata": {},
   "outputs": [
    {
     "data": {
      "text/plain": [
       "Index(['airline_sentiment', 'airline', 'text'], dtype='object')"
      ]
     },
     "execution_count": 115,
     "metadata": {},
     "output_type": "execute_result"
    }
   ],
   "source": [
    "all_columns = airline_reviews\n",
    "features = ['text', 'airline', 'airline_sentiment']\n",
    "for column in all_columns:\n",
    "    if column not in features:\n",
    "        airline_reviews.drop(column, axis=1, inplace=True)\n",
    "        \n",
    "airline_reviews.columns"
   ]
  },
  {
   "cell_type": "markdown",
   "id": "93cbe266",
   "metadata": {},
   "source": [
    "<h4>Checking for null values</h4>"
   ]
  },
  {
   "cell_type": "code",
   "execution_count": 116,
   "id": "2a215e87",
   "metadata": {},
   "outputs": [
    {
     "data": {
      "text/plain": [
       "(0, 0, 0)"
      ]
     },
     "execution_count": 116,
     "metadata": {},
     "output_type": "execute_result"
    }
   ],
   "source": [
    "\n",
    "airline_reviews['airline_sentiment'].isna().sum(), airline_reviews['airline'].isna().sum(), airline_reviews['text'].isna().sum()"
   ]
  },
  {
   "cell_type": "markdown",
   "id": "632353c8",
   "metadata": {},
   "source": [
    "<h3>EDA on the data that we'll use.</h3>"
   ]
  },
  {
   "cell_type": "code",
   "execution_count": 117,
   "id": "9db83f7e",
   "metadata": {},
   "outputs": [
    {
     "data": {
      "text/plain": [
       "array(['Virgin America', 'United', 'Southwest', 'Delta', 'US Airways',\n",
       "       'American'], dtype=object)"
      ]
     },
     "execution_count": 117,
     "metadata": {},
     "output_type": "execute_result"
    }
   ],
   "source": [
    "airline = airline_reviews['airline'].unique()\n",
    "airline"
   ]
  },
  {
   "cell_type": "code",
   "execution_count": 118,
   "id": "0b248493",
   "metadata": {},
   "outputs": [
    {
     "data": {
      "image/png": "[encoded data removed]",
      "text/plain": [
       "<Figure size 500x500 with 1 Axes>"
      ]
     },
     "metadata": {},
     "output_type": "display_data"
    }
   ],
   "source": [
    "plt.figure(figsize=(5,5))\n",
    "ax = sns.histplot(data=airline_reviews, x= airline_reviews['airline_sentiment'])\n",
    "for i in ax.containers:\n",
    "    ax.bar_label(i,)\n",
    "plt.title('Original Data Classes Distribution')\n",
    "plt.show()"
   ]
  },
  {
   "cell_type": "markdown",
   "id": "c0eb1654",
   "metadata": {},
   "source": [
    "<p>As was expected the amount of negative reviews is far greater than the neutral and positive combined.</p>\n",
    "<p>We have to take care of these imbalenced classes but will do after text pre-processing</p>"
   ]
  },
  {
   "cell_type": "markdown",
   "id": "b4ef937e",
   "metadata": {},
   "source": [
    "<p>Let's take a look at the text to see what we have to do.</p>"
   ]
  },
  {
   "cell_type": "code",
   "execution_count": 30,
   "id": "25f990ca",
   "metadata": {},
   "outputs": [
    {
     "data": {
      "text/plain": [
       "0                  @VirginAmerica What @dhepburn said.\n",
       "1    @VirginAmerica plus you've added commercials t...\n",
       "2    @VirginAmerica I didn't today... Must mean I n...\n",
       "3    @VirginAmerica it's really aggressive to blast...\n",
       "4    @VirginAmerica and it's a really big bad thing...\n",
       "5    @VirginAmerica seriously would pay $30 a fligh...\n",
       "6    @VirginAmerica yes, nearly every time I fly VX...\n",
       "7    @VirginAmerica Really missed a prime opportuni...\n",
       "8    @virginamerica Well, I didn'tÛ_but NOW I DO! :-D\n",
       "9    @VirginAmerica it was amazing, and arrived an ...\n",
       "Name: text, dtype: object"
      ]
     },
     "execution_count": 30,
     "metadata": {},
     "output_type": "execute_result"
    }
   ],
   "source": [
    "airline_reviews['text'][0:10]"
   ]
  },
  {
   "cell_type": "markdown",
   "id": "d96023b8",
   "metadata": {},
   "source": [
    "<p>At a first glance we have to take care of removing the:</p>\n",
    "<ul>\n",
    "    <li>@ airline name   - <b>check</b></li>\n",
    "    <li>@ random names - <b>check</b></li>\n",
    "    <li>URLs - <b>check</b></li>\n",
    "    <li>symbols - <b>check</b></li>\n",
    "    <li>time structures - <b>check</b></li>\n",
    "    <li>flight information acronyms for airports (webscrap: <a href=\"http://www.airportcodes.org/#international\">Airport Codes</a>) - <b>check</b></li>\n",
    "    <li>emoji handling (remove in a first place, then test with them).\n",
    "        <a href=\"https://studymachinelearning.com/text-preprocessing-handle-emoji-emoticon/\">Handling Emojis Emotions</a> - <b>check</b>\n",
    "    </li>\n",
    "    <li>emoticon handling (remove in a first place, then test with them.\n",
    "        <a href=\"https://en.wikipedia.org/wiki/List_of_emoticons\">Wikipedia Emoticon List</a> - <b>check</b>\n",
    "    </li>\n",
    "</ul>\n",
    "\n",
    "<p>Let's start with text preprocessing.</p>"
   ]
  },
  {
   "cell_type": "markdown",
   "id": "60dccdfd",
   "metadata": {},
   "source": [
    "<p>Getting the Airport acronyms from the website and create a list with each <b>(WebScrapping)</b></p>"
   ]
  },
  {
   "cell_type": "code",
   "execution_count": 69,
   "id": "6aaf6f5f",
   "metadata": {},
   "outputs": [],
   "source": [
    "# run once is enough:\n",
    "web = \"http://www.airportcodes.org/#international\"\n",
    "driver.get(web)\n",
    "airports_soup = BeautifulSoup(driver.page_source)\n",
    "table = airports_soup.find_all('table')\n",
    "airport_codes = []\n",
    "for airport in table[0].find_all('td')[0].get_text().split('\\n'):\n",
    "    if re.search(r\".*?\\(\", airport):\n",
    "        try:\n",
    "            airport_codes.append(re.findall('\\(.*?\\)', airport)[0][1:-1])\n",
    "        except IndexError:\n",
    "            continue\n"
   ]
  },
  {
   "cell_type": "code",
   "execution_count": 70,
   "id": "f072b9a2",
   "metadata": {},
   "outputs": [],
   "source": [
    "# airlines codes:\n",
    "airlines_codes = ['DAL', 'VX', 'UA', 'SWA', 'US', 'AA']\n",
    "\n",
    "# url (http|https) removal\n",
    "url_extract_pattern = \"https?:\\\\/\\\\/(?:www\\\\.)?[-a-zA-Z0-9@:%._\\\\+~#=]{1,256}\\\\.[a-zA-Z0-9()]{1,6}\\\\b(?:[-a-zA-Z0-9()@:%_\\\\+.~#?&\\\\/=]*)\""
   ]
  },
  {
   "cell_type": "markdown",
   "id": "7659e754",
   "metadata": {},
   "source": [
    "<p>Getting a list of emoticons from wikipedia <b>(WebScrapping)</b></p>"
   ]
  },
  {
   "cell_type": "code",
   "execution_count": 71,
   "id": "7bed4f8f",
   "metadata": {},
   "outputs": [],
   "source": [
    "web = 'https://en.wikipedia.org/wiki/List_of_emoticons'\n",
    "driver.get(web)\n",
    "emoticons_soup = BeautifulSoup(driver.page_source)\n",
    "table_1 = emoticons_soup.find_all('table', class_='wikitable')[0]\n",
    "rows_table = table_1.find_all('tr')[1:]\n",
    "row1 = rows_table[0]\n",
    "row1.find_all('td')[0].get_text(strip=True, separator='\\n').split('\\n')\n",
    "emoticon_list = []\n",
    "for row in rows_table:\n",
    "    # emoticon = re.sub(u'\\u2011', '-', row.find_all('td')[0].get_text(strip=True, separator='\\n').split('\\n'))\n",
    "    emoticon_list.extend(row.find_all('td')[0].get_text(strip=True, separator='\\n').split('\\n'))\n",
    "    # emoticon_list.extend(emoticon)\n",
    "for idx in range(len(emoticon_list)):\n",
    "    emoticon_list[idx] = re.sub(u'\\u2011', '-',emoticon_list[idx]) \n",
    "\n",
    "def check_emoticons(word):\n",
    "    \"\"\"\n",
    "        Function to check if 'word' is emoji\n",
    "    \"\"\"\n",
    "    if word in emoticon_list:\n",
    "        return True\n",
    "    else:\n",
    "        return False"
   ]
  },
  {
   "cell_type": "code",
   "execution_count": 72,
   "id": "bd9f7f30",
   "metadata": {},
   "outputs": [],
   "source": [
    "count_emojis = 0\n",
    "def check_emojis(word):\n",
    "    \"\"\"\n",
    "        Function to check if 'word' is emoji\n",
    "    \"\"\"\n",
    "    if word in emojis.values():\n",
    "        return True\n",
    "    else:\n",
    "        return False"
   ]
  },
  {
   "cell_type": "code",
   "execution_count": 73,
   "id": "9bae305b",
   "metadata": {},
   "outputs": [],
   "source": [
    "def reduce_lengthening(text):\n",
    "    \"\"\"\n",
    "        Sometimes people tend to use words as 'amaaaazing' Which is a problem if we don't do anything to them\n",
    "    \"\"\"\n",
    "    \n",
    "    pattern = re.compile(r\"(.)\\1{2,}\")\n",
    "    return pattern.sub(r\"\\1\\1\", text)"
   ]
  },
  {
   "cell_type": "code",
   "execution_count": 119,
   "id": "9df8f75c",
   "metadata": {},
   "outputs": [],
   "source": [
    "def text_preprocessing(text_base):\n",
    "    \"\"\"\n",
    "        This function is responsible to remove emoticons, emojis, urls, @word, #word,\n",
    "        words with numerical characters and lowercase everything\n",
    "    \"\"\"\n",
    "    # text normalization\n",
    "    text_base = unicodedata.normalize('NFKD', text_base).encode('ascii', 'ignore').decode('utf-8', 'ignore')\n",
    "\n",
    "    # remove emoticons  (at this stage we'll remove emojis but they might be important to sentiment analysis)\n",
    "    text_base = ' '.join([word for word in text_base.split() if not check_emoticons(word)])\n",
    "    \n",
    "    # remove emojis  (at this stage we'll remove emojis but they might be important to sentiment analysis)\n",
    "    text_base = ' '.join([word for word in text_base.split() if not check_emojis(word)])\n",
    "    \n",
    "    # remove links\n",
    "    text_base =' '.join([word for word in text_base.split() if not re.search(url_extract_pattern, word)])\n",
    "\n",
    "    # remove @word\n",
    "    text_base = ' '.join([word for word in text_base.split() if not re.search('^@', word)])\n",
    "\n",
    "    # remove #word\n",
    "    text_base = ' '.join([word for word in text_base.split() if not re.search('^#', word)])\n",
    "    \n",
    "    # remove numerical characters\n",
    "    text_base = ' '.join([word for word in text_base.split() if not re.search(r'[0-9]', word)])\n",
    "    \n",
    "    # lowercase\n",
    "    text_base = text_base.lower()\n",
    "   \n",
    "    return text_base"
   ]
  },
  {
   "cell_type": "markdown",
   "id": "164c2885",
   "metadata": {},
   "source": [
    "<h3>Proceed with text preprocessing using the function defined above.</h3>"
   ]
  },
  {
   "cell_type": "code",
   "execution_count": 76,
   "id": "971af843",
   "metadata": {},
   "outputs": [
    {
     "name": "stderr",
     "output_type": "stream",
     "text": [
      "100%|████████████████████████████████████| 14640/14640 [00:24<00:00, 590.85it/s]\n"
     ]
    }
   ],
   "source": [
    "airline_reviews_text_preprocessed = []\n",
    "for tweet in tqdm(airline_reviews['text']):\n",
    "    airline_reviews_text_preprocessed.append(text_preprocessing(tweet))\n"
   ]
  },
  {
   "cell_type": "code",
   "execution_count": 77,
   "id": "80b8eac1",
   "metadata": {},
   "outputs": [
    {
     "data": {
      "text/plain": [
       "14640"
      ]
     },
     "execution_count": 77,
     "metadata": {},
     "output_type": "execute_result"
    }
   ],
   "source": [
    "len(airline_reviews_text_preprocessed)"
   ]
  },
  {
   "cell_type": "markdown",
   "id": "4e0778bd",
   "metadata": {},
   "source": [
    "<p>Before proceeding with more text preprocessing let's translate the text from english to french and back to english.</p>"
   ]
  },
  {
   "cell_type": "code",
   "execution_count": null,
   "id": "bf12c73d",
   "metadata": {},
   "outputs": [],
   "source": [
    "from libretranslatepy import LibreTranslateAPI\n",
    "import concurrent.futures  # since this operation is going to be through requests we will use concurrent \"computing\" to speed up a little\n",
    "import threading\n",
    "import requests\n",
    "thread_local = threading.local()\n",
    "import time\n",
    "\n",
    "lt = LibreTranslateAPI(\"https://translate.argosopentech.com/\")\n",
    "\n"
   ]
  },
  {
   "cell_type": "code",
   "execution_count": 120,
   "id": "096a8419",
   "metadata": {},
   "outputs": [],
   "source": [
    "def translate(text_o) -> str:\n",
    "    \"\"\"\n",
    "        Function to translate from english to french and then back to english\n",
    "    \"\"\"\n",
    "    text_t = lt.translate(text_o, 'en', 'fr')\n",
    "    text_t_e = lt.translate(text_t, 'fr', 'en')\n",
    "    \n",
    "    return [text_o, text_t_e]"
   ]
  },
  {
   "cell_type": "code",
   "execution_count": null,
   "id": "2b3937bc",
   "metadata": {},
   "outputs": [],
   "source": [
    "def translater(text, max_worker: int) -> list:\n",
    "    with concurrent.futures.ThreadPoolExecutor(max_workers=max_worker) as executor:\n",
    "        listing_list = list(executor.map(translate, text))\n",
    "    return listing_list"
   ]
  },
  {
   "cell_type": "code",
   "execution_count": 79,
   "id": "392afede",
   "metadata": {},
   "outputs": [],
   "source": [
    "airline_reviews['text_preprocessed'] = airline_reviews_text_preprocessed\n",
    "del airline_reviews_text_preprocessed"
   ]
  },
  {
   "cell_type": "code",
   "execution_count": null,
   "id": "4e55fe27",
   "metadata": {},
   "outputs": [],
   "source": [
    "# airline_reviews.head(5)"
   ]
  },
  {
   "cell_type": "code",
   "execution_count": 80,
   "id": "fd9da7cb",
   "metadata": {},
   "outputs": [],
   "source": [
    "# create list for the neutral and positive data - which are the minority classes\n",
    "neutral = airline_reviews['text_preprocessed'].loc[airline_reviews['airline_sentiment'] == 'neutral']\n",
    "positive = airline_reviews['text_preprocessed'].loc[airline_reviews['airline_sentiment'] == 'positive']"
   ]
  },
  {
   "cell_type": "code",
   "execution_count": 81,
   "id": "4960eca9",
   "metadata": {},
   "outputs": [
    {
     "data": {
      "text/plain": [
       "(14640, (3099,), (2363,))"
      ]
     },
     "execution_count": 81,
     "metadata": {},
     "output_type": "execute_result"
    }
   ],
   "source": [
    "airline_reviews.shape, neutral.shape, positive.shape"
   ]
  },
  {
   "cell_type": "markdown",
   "id": "134a170c",
   "metadata": {},
   "source": [
    "<p>This next step will translate the neutral and positive lists, from eng->fr->eng</p>\n",
    "<p>We are not going to feed each list at once but instead chunks of it.</p>\n",
    "<p>Since this is an operation over requests, we defined Threads to perform the operation in order to try to speed up a little the operation. However it still takes a long time to finish.</p>\n",
    "<p>There are already some files neutral_csv.csv and positive_csv.csv</p>\n",
    "<p>I'll leave the blocks commented</p>"
   ]
  },
  {
   "cell_type": "code",
   "execution_count": null,
   "id": "3d5ea088",
   "metadata": {},
   "outputs": [],
   "source": [
    "# creating blocks of lists\n",
    "#traducao = []\n",
    "#i = 0\n",
    "#for i in tqdm(range(23)):\n",
    "#    i_init = i * 100\n",
    "#    i_final = i_init + 100\n",
    "#    texts = positive[i_init:i_final]\n",
    "#    traducao.extend(translater(texts, max_worker=40))\n",
    "\n",
    "#traducao.extend(translater(positive[i_final:], max_worker=40))\n",
    "#traducao_array = np.array(traducao)\n",
    "#traducao_array = pd.DataFrame(traducao_array)\n",
    "#traducao_array.to_csv('positive_csv.csv', index=False)"
   ]
  },
  {
   "cell_type": "code",
   "execution_count": null,
   "id": "4841f244",
   "metadata": {},
   "outputs": [],
   "source": [
    "# creating blocks of lists\n",
    "#traducao_n = []\n",
    "#i = 0\n",
    "#for i in tqdm(range(30)):\n",
    "#    i_init = i * 100\n",
    "#    i_final = i_init + 100\n",
    "#    texts = neutral[i_init:i_final]\n",
    "#    traducao_n.extend(translater(texts, max_worker=40))\n",
    "\n",
    "#traducao_n.extend(translater(neutral[i_final:], max_worker=40))\n",
    "\n",
    "#traducao_array_ = np.array(traducao_n)\n",
    "#traducao_array_ = pd.DataFrame(traducao_array_)\n",
    "#traducao_array_.to_csv('neutral_csv.csv', index=False)"
   ]
  },
  {
   "cell_type": "markdown",
   "id": "77c39be4",
   "metadata": {},
   "source": [
    "<h3>Second part for text preprocessing</h3>\n",
    "<p>After the first preprocessing part, the are some duplicates that we can remove from our datasets.</p>"
   ]
  },
  {
   "cell_type": "code",
   "execution_count": 85,
   "id": "e0a9a1ef",
   "metadata": {},
   "outputs": [],
   "source": [
    "neutral_df = pd.read_csv('neutral_csv.csv', )\n",
    "neutral_df.drop_duplicates(inplace=True)\n",
    "positive_df = pd.read_csv('positive_csv.csv')\n",
    "positive_df.drop_duplicates(inplace=True)\n",
    "airline_reviews.drop_duplicates(inplace=True)"
   ]
  },
  {
   "cell_type": "code",
   "execution_count": 87,
   "id": "209bdffa",
   "metadata": {},
   "outputs": [
    {
     "data": {
      "text/plain": [
       "((2988, 2), (2232, 2), (14452, 4))"
      ]
     },
     "execution_count": 87,
     "metadata": {},
     "output_type": "execute_result"
    }
   ],
   "source": [
    "neutral_df.shape, positive_df.shape, airline_reviews.shape"
   ]
  },
  {
   "cell_type": "code",
   "execution_count": 121,
   "id": "56475a1c",
   "metadata": {},
   "outputs": [],
   "source": [
    "def text_preprocessing_2(text_base):\n",
    "    \"\"\"\n",
    "        This function is responsible to remove emoticons airport and airline codes, convert contractions into\n",
    "        their full words and remove punctuation.\n",
    "    \"\"\"\n",
    "     # remove airport codes\n",
    "    text_base = ' '.join([word if not word in airport_codes else '' for word in text_base.split()])\n",
    "\n",
    "    # remove airline codes\n",
    "    text_base = ' '.join([word if not word in airlines_codes else '' for word in text_base.split()])\n",
    "    \n",
    "    # replace contraction with word(s)\n",
    "    text_base = ' '.join([contractions.contractions_dict[word] if word in list(contractions.contractions_dict.keys()) else word for word in text_base.split()])\n",
    "\n",
    "    # remove punctuantion\n",
    "    text_base = ''.join([' ' if element in punctuation else element for element in text_base ])\n",
    "    \n",
    "    text_base = ' '.join(text_base.split())\n",
    "    # lowercase\n",
    "    text_base = text_base.lower()\n",
    "   \n",
    "    return text_base"
   ]
  },
  {
   "cell_type": "code",
   "execution_count": 91,
   "id": "06d2c20b",
   "metadata": {},
   "outputs": [
    {
     "name": "stderr",
     "output_type": "stream",
     "text": [
      "100%|███████████████████████████████████| 14452/14452 [00:12<00:00, 1159.38it/s]\n",
      "100%|██████████████████████████████████████| 2232/2232 [00:03<00:00, 696.76it/s]\n",
      "100%|██████████████████████████████████████| 2988/2988 [00:04<00:00, 695.02it/s]\n"
     ]
    }
   ],
   "source": [
    "# original text preprocessing\n",
    "airline_reviews_text_preprocessed = []\n",
    "for tweet in tqdm(airline_reviews['text_preprocessed']):\n",
    "    airline_reviews_text_preprocessed.append(text_preprocessing_2(tweet))\n",
    "\n",
    "    \n",
    "pos_orig =[]\n",
    "pos_trans = []\n",
    "for idx in tqdm(positive_df.index):\n",
    "    pos_orig.append(text_preprocessing_2(positive_df['0'][idx]))\n",
    "    pos_trans.append(text_preprocessing_2(positive_df['1'][idx]))\n",
    "\n",
    "    \n",
    "pos_df = pd.DataFrame(list(zip(pos_orig, pos_trans)), columns=['original', 'translated'])\n",
    "\n",
    "neu_orig =[]\n",
    "neu_trans = []\n",
    "for idx in tqdm(neutral_df.index):\n",
    "    neu_orig.append(text_preprocessing_2(neutral_df['0'][idx]))\n",
    "    neu_trans.append(text_preprocessing_2(neutral_df['1'][idx]))\n",
    "    \n",
    "neu_df = pd.DataFrame(list(zip(neu_orig, neu_trans)), columns=['original', 'translated'])  \n",
    "    \n",
    "del pos_orig, pos_trans, neu_orig, neu_trans"
   ]
  },
  {
   "cell_type": "code",
   "execution_count": 110,
   "id": "365fad35",
   "metadata": {},
   "outputs": [],
   "source": [
    "# save preprocessed files\n",
    "airline_reviews['text_preprocessed'] = airline_reviews_text_preprocessed\n",
    "del airline_reviews_text_preprocessed\n",
    "airline_reviews.to_csv('Airline-Sentiment_processed.csv', index=False)\n",
    "\n",
    "pos_df.to_csv('positive_preprocessed.csv', index=False)\n",
    "\n",
    "neu_df.to_csv('neutral_preprocessed.csv', index=False)"
   ]
  },
  {
   "cell_type": "markdown",
   "id": "2a79c37c",
   "metadata": {},
   "source": [
    "<h3>Text Preprocessing to consider the emoticons/emojis sentiment</h3>"
   ]
  },
  {
   "cell_type": "code",
   "execution_count": 123,
   "id": "d9cdca1b",
   "metadata": {},
   "outputs": [
    {
     "data": {
      "text/plain": [
       "Index(['airline_sentiment', 'airline', 'text'], dtype='object')"
      ]
     },
     "execution_count": 123,
     "metadata": {},
     "output_type": "execute_result"
    }
   ],
   "source": [
    "# let's try to understand what emoticons and emojis we are dealing with, this is manual work now.\n",
    "airline_reviews_2 = pd.read_csv(\"Airline-Sentiment-2-w-AA.csv\", encoding='ISO-8859-1')\n",
    "all_columns = airline_reviews_2\n",
    "features = ['text', 'airline', 'airline_sentiment']\n",
    "for column in all_columns:\n",
    "    if column not in features:\n",
    "        airline_reviews_2.drop(column, axis=1, inplace=True)\n",
    "        \n",
    "airline_reviews_2.columns"
   ]
  },
  {
   "cell_type": "code",
   "execution_count": 124,
   "id": "0bc01410",
   "metadata": {},
   "outputs": [
    {
     "name": "stderr",
     "output_type": "stream",
     "text": [
      "100%|████████████████████████████████████| 14640/14640 [00:22<00:00, 637.01it/s]\n"
     ]
    }
   ],
   "source": [
    "emojis_in_text = []\n",
    "emoticons_in_text = []\n",
    "for tweet in tqdm(airline_reviews_2['text']):\n",
    "    text_base = unicodedata.normalize('NFKD', tweet).encode('ascii', 'ignore').decode('utf-8', 'ignore')\n",
    "    for word in text_base.split():\n",
    "        if word in emojis.values():\n",
    "            emojis_in_text.append(word)\n",
    "        if word in emoticon_list:\n",
    "            emoticons_in_text.append(word)\n",
    "    "
   ]
  },
  {
   "cell_type": "code",
   "execution_count": 126,
   "id": "9fdcfdda",
   "metadata": {},
   "outputs": [
    {
     "data": {
      "text/plain": [
       "16"
      ]
     },
     "execution_count": 126,
     "metadata": {},
     "output_type": "execute_result"
    }
   ],
   "source": [
    "emoticons_in_text = list(set(emoticons_in_text))\n",
    "len(emoticons_in_text)"
   ]
  },
  {
   "cell_type": "markdown",
   "id": "12bb6e60",
   "metadata": {},
   "source": [
    "<p>As we can see we don't have a very large list of emoticons to associate with a word.</p>"
   ]
  },
  {
   "cell_type": "code",
   "execution_count": 127,
   "id": "525a59bb",
   "metadata": {},
   "outputs": [],
   "source": [
    "emoticons_dict = {\n",
    "    ':X' : 'sad',\n",
    "    ':-)': 'happy',\n",
    "    ':)': 'happy',\n",
    "    ':-D': 'happy', \n",
    "    ';-)': 'happy',\n",
    "    \":'(\": 'sad',\n",
    "    ':/': 'sad',  # annoyed\n",
    "    'xD': 'laugh',\n",
    "    ':-(': 'sad',\n",
    "    ':D': 'happy',\n",
    "    ':|': 'indecision',\n",
    "    ':-))': 'very happy',\n",
    "    ':-/': 'annoyed',\n",
    "    ':P': 'happy',\n",
    "    ':(': 'sad',\n",
    "    ';)': 'happy'\n",
    "}"
   ]
  },
  {
   "cell_type": "markdown",
   "id": "0c5c9357",
   "metadata": {},
   "source": [
    "<p>Let's define a new text_processing function to include emojis/emoticons sentiment</p>"
   ]
  },
  {
   "cell_type": "code",
   "execution_count": 128,
   "id": "0922c3a9",
   "metadata": {},
   "outputs": [],
   "source": [
    "def check_emoticons_sentiment(text):\n",
    "    \"\"\"\n",
    "        Function to check if 'word' is emoji\n",
    "    \"\"\"\n",
    "    tmp = text.split()\n",
    "    for idx in range(len(tmp)):\n",
    "        if tmp[idx] in list(emoticons_dict.keys()):\n",
    "            tmp[idx] =  emoticons_dict[tmp[idx]]\n",
    "    text = ' '.join(tmp)\n",
    "    return text "
   ]
  },
  {
   "cell_type": "code",
   "execution_count": 129,
   "id": "f6d36d65",
   "metadata": {},
   "outputs": [],
   "source": [
    "def text_preprocessing_sentiment(text_base):\n",
    "    \"\"\"\n",
    "        THis function is responsible to remove everything as the previous, however, the emoticons are going to\n",
    "        be replace by a word for their sentiment.\n",
    "    \"\"\"\n",
    "    # text normalization\n",
    "    text_base = unicodedata.normalize('NFKD', text_base).encode('ascii', 'ignore').decode('utf-8', 'ignore')\n",
    "\n",
    "    #  emoticons sentiment  (at this stage we'll remove emojis but they might be important to sentiment analysis)\n",
    "    text_base = check_emoticons_sentiment(text_base)\n",
    "    \n",
    "    \n",
    "    # remove emojis  (at this stage we'll remove emojis but they might be important to sentiment analysis)\n",
    "    text_base = ' '.join([word for word in text_base.split() if not check_emojis(word)])\n",
    "    \n",
    "    # remove links\n",
    "    text_base =' '.join([word for word in text_base.split() if not re.search(url_extract_pattern, word)])\n",
    "\n",
    "    # remove @word\n",
    "    text_base = ' '.join([word for word in text_base.split() if not re.search('^@', word)])\n",
    "\n",
    "    # remove #word\n",
    "    text_base = ' '.join([word for word in text_base.split() if not re.search('^#', word)])\n",
    "\n",
    "    # remove airport codes\n",
    "    text_base = ' '.join([word if not word in airport_codes else '' for word in text_base.split()])\n",
    "\n",
    "    # remove airline codes\n",
    "    text_base = ' '.join([word if not word in airlines_codes else '' for word in text_base.split()])\n",
    "    \n",
    "    # lowercase\n",
    "    text_base = text_base.lower()\n",
    "    \n",
    "    # replace contraction with word(s)\n",
    "    text_base = ' '.join([contractions.contractions_dict[word] if word in list(contractions.contractions_dict.keys()) else word for word in text_base.split()])\n",
    "\n",
    "    # remove punctuantion\n",
    "    text_base = ''.join([' ' if element in punctuation else element for element in text_base ])\n",
    "    \n",
    "    text_base = ' '.join(text_base.split())\n",
    "    \n",
    "    return text_base"
   ]
  },
  {
   "cell_type": "code",
   "execution_count": 130,
   "id": "6ad2334b",
   "metadata": {},
   "outputs": [
    {
     "name": "stderr",
     "output_type": "stream",
     "text": [
      "100%|████████████████████████████████████| 14640/14640 [00:38<00:00, 381.65it/s]\n"
     ]
    }
   ],
   "source": [
    "airline_reviews_text_preprocessed_sentiment = []\n",
    "for tweet in tqdm(airline_reviews_2['text']):\n",
    "    airline_reviews_text_preprocessed_sentiment.append(text_preprocessing_sentiment(tweet))\n"
   ]
  },
  {
   "cell_type": "code",
   "execution_count": 132,
   "id": "0b885b2b",
   "metadata": {
    "collapsed": true
   },
   "outputs": [
    {
     "ename": "NameError",
     "evalue": "name 'airline_reviews_text_preprocessed_sentiment' is not defined",
     "output_type": "error",
     "traceback": [
      "\u001b[0;31m---------------------------------------------------------------------------\u001b[0m",
      "\u001b[0;31mNameError\u001b[0m                                 Traceback (most recent call last)",
      "Input \u001b[0;32mIn [132]\u001b[0m, in \u001b[0;36m<cell line: 1>\u001b[0;34m()\u001b[0m\n\u001b[0;32m----> 1\u001b[0m airline_reviews_2[\u001b[38;5;124m'\u001b[39m\u001b[38;5;124mtext_preprocessed_sentiment\u001b[39m\u001b[38;5;124m'\u001b[39m] \u001b[38;5;241m=\u001b[39m \u001b[43mairline_reviews_text_preprocessed_sentiment\u001b[49m\n\u001b[1;32m      2\u001b[0m \u001b[38;5;28;01mdel\u001b[39;00m airline_reviews_text_preprocessed_sentiment\n\u001b[1;32m      3\u001b[0m airline_reviews_2\u001b[38;5;241m.\u001b[39mhead(\u001b[38;5;241m10\u001b[39m)\n",
      "\u001b[0;31mNameError\u001b[0m: name 'airline_reviews_text_preprocessed_sentiment' is not defined"
     ]
    }
   ],
   "source": [
    "airline_reviews_2['text_preprocessed_sentiment'] = airline_reviews_text_preprocessed_sentiment\n",
    "del airline_reviews_text_preprocessed_sentiment\n",
    "airline_reviews_2.head(10)"
   ]
  },
  {
   "cell_type": "code",
   "execution_count": 133,
   "id": "4f3fba0a",
   "metadata": {},
   "outputs": [],
   "source": [
    "airline_reviews_2.to_csv('Airline-Sentiment_processed_sentiment.csv', index=False)"
   ]
  }
 ],
 "metadata": {
  "kernelspec": {
   "display_name": "Python 3 (ipykernel)",
   "language": "python",
   "name": "python3"
  },
  "language_info": {
   "codemirror_mode": {
    "name": "ipython",
    "version": 3
   },
   "file_extension": ".py",
   "mimetype": "text/x-python",
   "name": "python",
   "nbconvert_exporter": "python",
   "pygments_lexer": "ipython3",
   "version": "3.10.6"
  }
 },
 "nbformat": 4,
 "nbformat_minor": 5
}
