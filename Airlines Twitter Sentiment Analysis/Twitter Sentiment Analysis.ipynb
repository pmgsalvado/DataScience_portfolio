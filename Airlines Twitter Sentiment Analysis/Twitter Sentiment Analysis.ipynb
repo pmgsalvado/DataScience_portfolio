{
 "cells": [
  {
   "cell_type": "code",
   "execution_count": 13,
   "id": "33fd32e7",
   "metadata": {},
   "outputs": [],
   "source": [
    "import numpy as np\n",
    "import pandas as pd\n",
    "import matplotlib.pyplot as plt\n",
    "import seaborn as sns\n",
    "from tqdm import tqdm\n",
    "# skelearn utils\n",
    "from sklearn.utils import shuffle\n",
    "from sklearn.model_selection import train_test_split\n",
    "from sklearn.preprocessing import OneHotEncoder\n",
    "from sklearn.metrics import classification_report, f1_score, matthews_corrcoef, recall_score, jaccard_score\n",
    "from sklearn.utils.class_weight import compute_class_weight\n",
    "# Resample\n",
    "from imblearn import over_sampling\n",
    "\n",
    "# ML\n",
    "import tensorflow as tf\n",
    "from tensorflow import keras\n",
    "from tensorflow.keras.preprocessing.text import Tokenizer \n",
    "from tensorflow.keras.layers import TextVectorization\n",
    "from tensorflow.keras.preprocessing.sequence import pad_sequences\n",
    "\n",
    "from tensorflow.keras.models import Sequential\n",
    "from tensorflow.keras import layers "
   ]
  },
  {
   "cell_type": "markdown",
   "id": "8612e078",
   "metadata": {},
   "source": [
    "<h3>Functions</h3>"
   ]
  },
  {
   "cell_type": "code",
   "execution_count": 14,
   "id": "34622e3d",
   "metadata": {},
   "outputs": [],
   "source": [
    "# Function to verify training history\n",
    "def plot_history(history: list):\n",
    "    \n",
    "    legend = ['Train', 'Validation']\n",
    "    \n",
    "    key_list = list(history.history.keys())\n",
    "    plt.figure(figsize=(6,3*int((len(key_list))/2)))\n",
    "    for val, metric in enumerate(key_list[0:int((len(key_list))/2)]):\n",
    "        plt.subplot(int((len(key_list))/2), 1, val+1)\n",
    "        plt.plot(history.history[metric])\n",
    "        plt.plot(history.history['val_'+ metric])\n",
    "        plt.xlabel('Epochs')\n",
    "        plt.ylabel(metric)\n",
    "        plt.legend(legend, loc='best')"
   ]
  },
  {
   "cell_type": "code",
   "execution_count": 15,
   "id": "8a0b2366",
   "metadata": {},
   "outputs": [],
   "source": [
    "def plot_class_distribution(array, name):\n",
    "    plt.figure(figsize=(5,4))\n",
    "    ax = sns.histplot(x=array)\n",
    "    for i in ax.containers:\n",
    "        ax.bar_label(i,)\n",
    "    plt.title(f'{name} Data Class Distribution')\n",
    "    plt.show()"
   ]
  },
  {
   "cell_type": "markdown",
   "id": "7b1acc7c",
   "metadata": {},
   "source": [
    "<h3>Loading datasets</h3>"
   ]
  },
  {
   "cell_type": "code",
   "execution_count": 16,
   "id": "2405fa76",
   "metadata": {},
   "outputs": [
    {
     "name": "stdout",
     "output_type": "stream",
     "text": [
      "(14452, 4)\n",
      "(14445, 2)\n"
     ]
    }
   ],
   "source": [
    "airline_preprocessed = pd.read_csv('Airline-Sentiment_processed.csv')\n",
    "print(airline_preprocessed.shape)\n",
    "airline_preprocessed.drop(['text', 'airline'], axis=1, inplace=True)\n",
    "#airline_preprocessed.drop_duplicates(inplace=True)\n",
    "airline_preprocessed.dropna(inplace=True)\n",
    "print(airline_preprocessed.shape)"
   ]
  },
  {
   "cell_type": "code",
   "execution_count": 17,
   "id": "d7faa790",
   "metadata": {},
   "outputs": [
    {
     "name": "stdout",
     "output_type": "stream",
     "text": [
      "(14640, 4)\n",
      "(14640, 2)\n"
     ]
    }
   ],
   "source": [
    "airline_preprocessed_sentiment = pd.read_csv('Airline-Sentiment_processed_sentiment.csv')\n",
    "print(airline_preprocessed_sentiment.shape)\n",
    "airline_preprocessed_sentiment.drop(['text', 'airline'], axis=1, inplace=True)\n",
    "#airline_preprocessed_sentiment.drop_duplicates(inplace=True)\n",
    "airline_preprocessed_sentiment.dropna(inplace=True)\n",
    "print(airline_preprocessed_sentiment.shape)"
   ]
  },
  {
   "cell_type": "code",
   "execution_count": 18,
   "id": "64dec26d",
   "metadata": {},
   "outputs": [
    {
     "name": "stdout",
     "output_type": "stream",
     "text": [
      "(2988, 2)\n",
      "(2969, 2)\n"
     ]
    }
   ],
   "source": [
    "neutral_df = pd.read_csv('neutral_preprocessed.csv')\n",
    "print(neutral_df.shape)\n",
    "neutral_df.drop_duplicates(inplace=True)\n",
    "neutral_df.dropna(inplace=True)\n",
    "print(neutral_df.shape)"
   ]
  },
  {
   "cell_type": "code",
   "execution_count": 19,
   "id": "8e80efaa",
   "metadata": {},
   "outputs": [],
   "source": [
    "max_ = 0\n",
    "for idx in neutral_df.index:\n",
    "    if len(neutral_df['translated'][idx].split()) == 272:\n",
    "        max_ = len(neutral_df['translated'][idx].split())\n",
    "        neutral_df['translated'][idx] = ' '.join(list(set(neutral_df['translated'][idx].split()))) \n"
   ]
  },
  {
   "cell_type": "code",
   "execution_count": 20,
   "id": "757fadc3",
   "metadata": {},
   "outputs": [
    {
     "name": "stdout",
     "output_type": "stream",
     "text": [
      "(2232, 2)\n",
      "(2208, 2)\n"
     ]
    }
   ],
   "source": [
    "positive_df = pd.read_csv('positive_preprocessed.csv')\n",
    "print(positive_df.shape)\n",
    "positive_df.drop_duplicates(inplace=True)\n",
    "positive_df.dropna(inplace=True)\n",
    "print(positive_df.shape)"
   ]
  },
  {
   "cell_type": "markdown",
   "id": "686ba8d8",
   "metadata": {},
   "source": [
    "<h2>Prepare the data for the scenarios that we are going see the performance of our models:</h2>\n",
    "<ul>\n",
    "    <li>1 - Original Data</li>\n",
    "    <li>2 - Original Data with \"sentiment\" (emoticons replaced by word sentiment)</li>\n",
    "    <li>3 - Original Data with minority classes (positive and negative) augmentation</li>\n",
    "</ul>"
   ]
  },
  {
   "cell_type": "markdown",
   "id": "3eab8210",
   "metadata": {},
   "source": [
    "<h3>1 - Split the <u>\"original\"</u> dataset into test and train</h3>"
   ]
  },
  {
   "cell_type": "code",
   "execution_count": 21,
   "id": "de9eaaa8",
   "metadata": {},
   "outputs": [
    {
     "name": "stdout",
     "output_type": "stream",
     "text": [
      "Train Shape Features: (11556,) Target: (11556,)\n",
      "Validation/Test Shape Features: (2889,) Target: (2889,)\n"
     ]
    }
   ],
   "source": [
    "x_train, x_test, y_train, y_test = train_test_split(airline_preprocessed['text_preprocessed'],\n",
    "                                                 airline_preprocessed['airline_sentiment'],\n",
    "                                                 train_size=0.8)\n",
    "\n",
    "print('Train Shape Features: {} Target: {}'.format(x_train.shape, y_train.shape))\n",
    "print('Validation/Test Shape Features: {} Target: {}'.format(x_test.shape, y_test.shape))"
   ]
  },
  {
   "cell_type": "markdown",
   "id": "5bf839c0",
   "metadata": {},
   "source": [
    "<h3>2 - Split the <u>\"original\" with sentiment</u> dataset into test and train</h3>"
   ]
  },
  {
   "cell_type": "code",
   "execution_count": 22,
   "id": "9ee543df",
   "metadata": {},
   "outputs": [
    {
     "name": "stdout",
     "output_type": "stream",
     "text": [
      "Train Shape Features: (11712,) Target: (11712,)\n",
      "Validation/Test Shape Features: (2928,) Target: (2928,)\n"
     ]
    }
   ],
   "source": [
    "x_train_S,x_test_S,y_train_S,y_test_S = train_test_split(airline_preprocessed_sentiment['text_preprocessed_sentiment'],\n",
    "                                                 airline_preprocessed_sentiment['airline_sentiment'],\n",
    "                                                 train_size=0.8)\n",
    "\n",
    "print('Train Shape Features: {} Target: {}'.format(x_train_S.shape, y_train_S.shape))\n",
    "print('Validation/Test Shape Features: {} Target: {}'.format(x_test_S.shape, y_test_S.shape))"
   ]
  },
  {
   "cell_type": "markdown",
   "id": "adede8af",
   "metadata": {},
   "source": [
    "<h3>3 - Split <u>original dataset with minority classes augmentation</u></h3>"
   ]
  },
  {
   "cell_type": "markdown",
   "id": "c4527536",
   "metadata": {},
   "source": [
    "<p>At this point we have to check in the neutral_df and positive_df, for the original text in the original dataset y_train, and add the translated text to the matching texts to the x_train.</p>"
   ]
  },
  {
   "cell_type": "code",
   "execution_count": 23,
   "id": "d6ce2209",
   "metadata": {},
   "outputs": [
    {
     "data": {
      "text/plain": [
       "(1738, 2)"
      ]
     },
     "execution_count": 23,
     "metadata": {},
     "output_type": "execute_result"
    }
   ],
   "source": [
    "# neutral\n",
    "tmp = []\n",
    "for idx in neutral_df.index:\n",
    "    if neutral_df['original'][idx] in x_train.to_list():\n",
    "        tmp.append(neutral_df['translated'][idx])\n",
    "tmp_df = pd.DataFrame(tmp, columns=['text_preprocessed'])\n",
    "tmp_df['airline_sentiment'] = 'neutral'\n",
    "tmp_df.shape\n"
   ]
  },
  {
   "cell_type": "code",
   "execution_count": 24,
   "id": "d87f5853",
   "metadata": {},
   "outputs": [
    {
     "data": {
      "text/plain": [
       "(1491, 2)"
      ]
     },
     "execution_count": 24,
     "metadata": {},
     "output_type": "execute_result"
    }
   ],
   "source": [
    "# positive\n",
    "tmp_ = []\n",
    "for idx in positive_df.index:\n",
    "    if positive_df['original'][idx] in x_train.to_list():\n",
    "        tmp_.append(positive_df['translated'][idx])\n",
    "tmp_df_ = pd.DataFrame(tmp_, columns=['text_preprocessed'])\n",
    "tmp_df_['airline_sentiment'] = 'positive'\n",
    "tmp_df_.shape"
   ]
  },
  {
   "cell_type": "markdown",
   "id": "517d370f",
   "metadata": {},
   "source": [
    "<p>Now we create a new dataframe</p>"
   ]
  },
  {
   "cell_type": "code",
   "execution_count": 25,
   "id": "e5e9155d",
   "metadata": {},
   "outputs": [],
   "source": [
    "airline_df_tmp = pd.DataFrame(x_train, columns=['text_preprocessed'])\n",
    "airline_df_tmp['airline_sentiment'] = y_train"
   ]
  },
  {
   "cell_type": "code",
   "execution_count": 26,
   "id": "8fcf9d6d",
   "metadata": {},
   "outputs": [
    {
     "name": "stdout",
     "output_type": "stream",
     "text": [
      "(14785, 2)\n",
      "Train Shape Features: (14785,) Target: (14785,)\n",
      "Validation/Test Shape Features: (2889,) Target: (2889,)\n"
     ]
    }
   ],
   "source": [
    "airline_df_aug = pd.concat([airline_df_tmp, tmp_df, tmp_df_], ignore_index=True)\n",
    "del tmp_df, tmp_df_, airline_df_tmp\n",
    "print(airline_df_aug.shape)\n",
    "\n",
    "shuffle(airline_df_aug)\n",
    "\n",
    "x_train_aug = airline_df_aug['text_preprocessed']\n",
    "y_train_aug = airline_df_aug['airline_sentiment']\n",
    "\n",
    "print('Train Shape Features: {} Target: {}'.format(x_train_aug.shape, y_train_aug.shape))\n",
    "print('Validation/Test Shape Features: {} Target: {}'.format(x_test.shape, y_test.shape))"
   ]
  },
  {
   "cell_type": "markdown",
   "id": "62b2d7b0",
   "metadata": {},
   "source": [
    "<h3>Model Definition</h3>\n"
   ]
  },
  {
   "cell_type": "code",
   "execution_count": 38,
   "id": "f261408b",
   "metadata": {},
   "outputs": [],
   "source": [
    "def model_definition(vectorize_layer, vocab_size, embedding_dim, dropout_layer=False, ):\n",
    "    model= Sequential()\n",
    "    model.add(keras.layers.Input(1, dtype=tf.string))\n",
    "    model.add(vectorize_layer)\n",
    "    model.add(keras.layers.Embedding(vocab_size, embedding_dim))\n",
    "    if dropout_layer:\n",
    "        model.add(keras.layers.Dropout(0.2))\n",
    "    model.add(keras.layers.Bidirectional(keras.layers.LSTM(embedding_dim, activation='relu')))\n",
    "    model.add(keras.layers.Dense(embedding_dim, activation='relu'))\n",
    "    if dropout_layer:\n",
    "        model.add(keras.layers.Dropout(0,3))\n",
    "    model.add(keras.layers.Dense(embedding_dim, activation='relu'))\n",
    "    if dropout_layer:\n",
    "        model.add(keras.layers.Dropout(0,3))\n",
    "    model.add(keras.layers.Dense(3, activation='softmax'))\n",
    "\n",
    "    model.summary()\n",
    "    \n",
    "    return model"
   ]
  },
  {
   "cell_type": "code",
   "execution_count": 80,
   "id": "2c6269f7",
   "metadata": {},
   "outputs": [],
   "source": [
    "earlystop = keras.callbacks.EarlyStopping(min_delta=1e-3, patience=5)\n",
    "\n",
    "def model_training(x_train, x_test, y_train, y_test, name: str, epochs=10):\n",
    "    \n",
    "    # checking for the max length of the tweets\n",
    "    max_ = 0\n",
    "    for tweets in tqdm(x_train):\n",
    "        if len(tweets.split()) > max_:\n",
    "            max_ = len(tweets.split())\n",
    "    \n",
    "    vocab_size = 20000\n",
    "    embedding_dim = 64\n",
    "    max_length = max_ + 2\n",
    "    trunc_type = 'post'\n",
    "    padding_type = 'post'\n",
    "    oov_tok = '<OOV>'\n",
    "    \n",
    "    vectorize = TextVectorization(max_tokens=vocab_size, \n",
    "                                  output_mode='int',\n",
    "                                  output_sequence_length=max_length,                 \n",
    "                                  )\n",
    "    vectorize.adapt(x_train)\n",
    "    print('{} Vocabulary size {}'.format(name, vectorize.vocabulary_size()))\n",
    "    \n",
    "    # plot class distribution\n",
    "    plot_class_distribution(y_train, name)\n",
    "    \n",
    "    label_tokenizer = Tokenizer()\n",
    "    label_tokenizer.fit_on_texts(y_train)\n",
    "    \n",
    "    y_train = np.array(label_tokenizer.texts_to_sequences(y_train)) - 1\n",
    "    y_test = np.array(label_tokenizer.texts_to_sequences(y_test)) - 1\n",
    "    \n",
    "   \n",
    "    \n",
    "    model = model_definition(vectorize, vocab_size, embedding_dim, dropout_layer=False)\n",
    "    model.compile(loss='sparse_categorical_crossentropy',\n",
    "                            optimizer=keras.optimizers.Adam(), metrics=['accuracy'])\n",
    "    num_epochs = epochs\n",
    "    history = model.fit(x_train,y_train,\n",
    "                        epochs=num_epochs,\n",
    "                        validation_data=(x_test, y_test),\n",
    "                        verbose=1,\n",
    "                        callbacks=earlystop,\n",
    "                        batch_size=32,\n",
    "                        )\n",
    "    \n",
    "    prediction_set = model_prediction(model,x_test, y_test, name)\n",
    "    \n",
    "    \n",
    "    return {'model': model, 'history': history, 'prediction': prediction_set}\n",
    "    "
   ]
  },
  {
   "cell_type": "code",
   "execution_count": 77,
   "id": "e94776d1",
   "metadata": {},
   "outputs": [],
   "source": [
    "def model_prediction(model, x_test, y_test, name:str):\n",
    "    y_predict = model.predict(x_test)\n",
    "    y_predict = np.array(y_predict)\n",
    "    y_predict_class = []\n",
    "    for vals in y_predict:\n",
    "        y_predict_class.append(vals.argmax())\n",
    "        \n",
    "    print(classification_report(y_test, y_predict_class))\n",
    "    f1 = f1_score(y_test,y_predict_class, average='weighted')\n",
    "    mcc = matthews_corrcoef(y_test,y_predict_class,)\n",
    "    recall = recall_score(y_test,y_predict_class, average='weighted')\n",
    "    jcs = jaccard_score(y_test,y_predict_class, average='weighted')\n",
    "    \n",
    "    \n",
    "    \n",
    "    return {'prediction': y_predict,'f1_score': f1, 'matthews_corr': mcc, 'recall': recall, 'jaccard_score': jcs}"
   ]
  },
  {
   "cell_type": "code",
   "execution_count": 81,
   "id": "9b150edf",
   "metadata": {},
   "outputs": [
    {
     "name": "stderr",
     "output_type": "stream",
     "text": [
      "100%|█████████████████████████████████| 11556/11556 [00:00<00:00, 149181.07it/s]\n"
     ]
    },
    {
     "name": "stdout",
     "output_type": "stream",
     "text": [
      "Original Vocabulary size 8935\n"
     ]
    },
    {
     "data": {
      "image/png": "[encoded data removed]",
      "text/plain": [
       "<Figure size 500x400 with 1 Axes>"
      ]
     },
     "metadata": {},
     "output_type": "display_data"
    },
    {
     "name": "stdout",
     "output_type": "stream",
     "text": [
      "Model: \"sequential_11\"\n",
      "_________________________________________________________________\n",
      " Layer (type)                Output Shape              Param #   \n",
      "=================================================================\n",
      " text_vectorization_15 (Text  (None, 51)               0         \n",
      " Vectorization)                                                  \n",
      "                                                                 \n",
      " embedding_11 (Embedding)    (None, 51, 64)            1280000   \n",
      "                                                                 \n",
      " bidirectional_11 (Bidirecti  (None, 128)              66048     \n",
      " onal)                                                           \n",
      "                                                                 \n",
      " dense_33 (Dense)            (None, 64)                8256      \n",
      "                                                                 \n",
      " dense_34 (Dense)            (None, 64)                4160      \n",
      "                                                                 \n",
      " dense_35 (Dense)            (None, 3)                 195       \n",
      "                                                                 \n",
      "=================================================================\n",
      "Total params: 1,358,659\n",
      "Trainable params: 1,358,659\n",
      "Non-trainable params: 0\n",
      "_________________________________________________________________\n",
      "Epoch 1/11\n",
      "362/362 [==============================] - 25s 60ms/step - loss: 0.6936 - accuracy: 0.7074 - val_loss: 0.5702 - val_accuracy: 0.7743\n",
      "Epoch 2/11\n",
      "362/362 [==============================] - 28s 78ms/step - loss: 0.4647 - accuracy: 0.8244 - val_loss: 0.5932 - val_accuracy: 0.7958\n",
      "Epoch 3/11\n",
      "362/362 [==============================] - 19s 51ms/step - loss: 0.3341 - accuracy: 0.8736 - val_loss: 0.5924 - val_accuracy: 0.7875\n",
      "Epoch 4/11\n",
      "362/362 [==============================] - 19s 53ms/step - loss: 0.2584 - accuracy: 0.9095 - val_loss: 0.6528 - val_accuracy: 0.7754\n",
      "Epoch 5/11\n",
      "362/362 [==============================] - 19s 53ms/step - loss: 0.1921 - accuracy: 0.9316 - val_loss: 1.0248 - val_accuracy: 0.7799\n",
      "Epoch 6/11\n",
      "362/362 [==============================] - 19s 52ms/step - loss: 0.1608 - accuracy: 0.9443 - val_loss: 0.8279 - val_accuracy: 0.7639\n",
      "91/91 [==============================] - 1s 9ms/step\n",
      "              precision    recall  f1-score   support\n",
      "\n",
      "           0       0.85      0.85      0.85      1814\n",
      "           1       0.59      0.59      0.59       633\n",
      "           2       0.67      0.66      0.66       442\n",
      "\n",
      "    accuracy                           0.76      2889\n",
      "   macro avg       0.70      0.70      0.70      2889\n",
      "weighted avg       0.76      0.76      0.76      2889\n",
      "\n"
     ]
    }
   ],
   "source": [
    "original = model_training(x_train,x_test,y_train,y_test, 'Original', epochs= 11)"
   ]
  },
  {
   "cell_type": "code",
   "execution_count": 83,
   "id": "1d4959cb",
   "metadata": {},
   "outputs": [
    {
     "name": "stderr",
     "output_type": "stream",
     "text": [
      "100%|█████████████████████████████████| 11712/11712 [00:00<00:00, 169092.91it/s]\n"
     ]
    },
    {
     "name": "stdout",
     "output_type": "stream",
     "text": [
      "Sentiment Vocabulary size 10504\n"
     ]
    },
    {
     "data": {
      "image/png": "[encoded data removed]",
      "text/plain": [
       "<Figure size 500x400 with 1 Axes>"
      ]
     },
     "metadata": {},
     "output_type": "display_data"
    },
    {
     "name": "stdout",
     "output_type": "stream",
     "text": [
      "Model: \"sequential_12\"\n",
      "_________________________________________________________________\n",
      " Layer (type)                Output Shape              Param #   \n",
      "=================================================================\n",
      " text_vectorization_16 (Text  (None, 37)               0         \n",
      " Vectorization)                                                  \n",
      "                                                                 \n",
      " embedding_12 (Embedding)    (None, 37, 64)            1280000   \n",
      "                                                                 \n",
      " bidirectional_12 (Bidirecti  (None, 128)              66048     \n",
      " onal)                                                           \n",
      "                                                                 \n",
      " dense_36 (Dense)            (None, 64)                8256      \n",
      "                                                                 \n",
      " dense_37 (Dense)            (None, 64)                4160      \n",
      "                                                                 \n",
      " dense_38 (Dense)            (None, 3)                 195       \n",
      "                                                                 \n",
      "=================================================================\n",
      "Total params: 1,358,659\n",
      "Trainable params: 1,358,659\n",
      "Non-trainable params: 0\n",
      "_________________________________________________________________\n",
      "Epoch 1/11\n",
      "366/366 [==============================] - 20s 44ms/step - loss: 22.3369 - accuracy: 0.7102 - val_loss: 0.5787 - val_accuracy: 0.7708\n",
      "Epoch 2/11\n",
      "366/366 [==============================] - 17s 46ms/step - loss: 0.4503 - accuracy: 0.8273 - val_loss: 0.5349 - val_accuracy: 0.7934\n",
      "Epoch 3/11\n",
      "366/366 [==============================] - 16s 45ms/step - loss: 0.3927 - accuracy: 0.8802 - val_loss: 0.5759 - val_accuracy: 0.7903\n",
      "Epoch 4/11\n",
      "366/366 [==============================] - 16s 43ms/step - loss: 0.3091 - accuracy: 0.9181 - val_loss: 0.6212 - val_accuracy: 0.7787\n",
      "Epoch 5/11\n",
      "366/366 [==============================] - 16s 42ms/step - loss: 0.1876 - accuracy: 0.9352 - val_loss: 0.7007 - val_accuracy: 0.7681\n",
      "Epoch 6/11\n",
      "366/366 [==============================] - 16s 43ms/step - loss: 0.1448 - accuracy: 0.9509 - val_loss: 0.8833 - val_accuracy: 0.7661\n",
      "Epoch 7/11\n",
      "366/366 [==============================] - 16s 43ms/step - loss: 0.1178 - accuracy: 0.9606 - val_loss: 1.7149 - val_accuracy: 0.7572\n",
      "92/92 [==============================] - 1s 8ms/step\n",
      "              precision    recall  f1-score   support\n",
      "\n",
      "           0       0.83      0.87      0.85      1805\n",
      "           1       0.58      0.52      0.55       648\n",
      "           2       0.69      0.67      0.68       475\n",
      "\n",
      "    accuracy                           0.76      2928\n",
      "   macro avg       0.70      0.68      0.69      2928\n",
      "weighted avg       0.75      0.76      0.75      2928\n",
      "\n"
     ]
    }
   ],
   "source": [
    "original_sentiment = model_training(x_train_S,x_test_S,y_train_S,y_test_S, 'Sentiment', epochs=11)"
   ]
  },
  {
   "cell_type": "code",
   "execution_count": 84,
   "id": "6b070a31",
   "metadata": {},
   "outputs": [
    {
     "name": "stderr",
     "output_type": "stream",
     "text": [
      "100%|█████████████████████████████████| 14785/14785 [00:00<00:00, 208722.06it/s]\n"
     ]
    },
    {
     "name": "stdout",
     "output_type": "stream",
     "text": [
      "Original Augmented Vocabulary size 9417\n"
     ]
    },
    {
     "data": {
      "image/png": "[encoded data removed]",
      "text/plain": [
       "<Figure size 500x400 with 1 Axes>"
      ]
     },
     "metadata": {},
     "output_type": "display_data"
    },
    {
     "name": "stdout",
     "output_type": "stream",
     "text": [
      "Model: \"sequential_13\"\n",
      "_________________________________________________________________\n",
      " Layer (type)                Output Shape              Param #   \n",
      "=================================================================\n",
      " text_vectorization_17 (Text  (None, 60)               0         \n",
      " Vectorization)                                                  \n",
      "                                                                 \n",
      " embedding_13 (Embedding)    (None, 60, 64)            1280000   \n",
      "                                                                 \n",
      " bidirectional_13 (Bidirecti  (None, 128)              66048     \n",
      " onal)                                                           \n",
      "                                                                 \n",
      " dense_39 (Dense)            (None, 64)                8256      \n",
      "                                                                 \n",
      " dense_40 (Dense)            (None, 64)                4160      \n",
      "                                                                 \n",
      " dense_41 (Dense)            (None, 3)                 195       \n",
      "                                                                 \n",
      "=================================================================\n",
      "Total params: 1,358,659\n",
      "Trainable params: 1,358,659\n",
      "Non-trainable params: 0\n",
      "_________________________________________________________________\n",
      "Epoch 1/11\n",
      "463/463 [==============================] - 33s 66ms/step - loss: 0.7768 - accuracy: 0.6787 - val_loss: 0.5698 - val_accuracy: 0.7629\n",
      "Epoch 2/11\n",
      "463/463 [==============================] - 25s 54ms/step - loss: 21.2284 - accuracy: 0.8038 - val_loss: 0.6394 - val_accuracy: 0.7338\n",
      "Epoch 3/11\n",
      "463/463 [==============================] - 29s 62ms/step - loss: 0.4212 - accuracy: 0.8413 - val_loss: 0.6366 - val_accuracy: 0.7501\n",
      "Epoch 4/11\n",
      "463/463 [==============================] - 28s 61ms/step - loss: 0.2964 - accuracy: 0.8930 - val_loss: 12.9739 - val_accuracy: 0.7546\n",
      "Epoch 5/11\n",
      "463/463 [==============================] - 29s 63ms/step - loss: 0.2388 - accuracy: 0.9149 - val_loss: 32.8697 - val_accuracy: 0.7504\n",
      "Epoch 6/11\n",
      "463/463 [==============================] - 28s 61ms/step - loss: 66.1114 - accuracy: 0.9256 - val_loss: 11.4980 - val_accuracy: 0.7456\n",
      "91/91 [==============================] - 1s 11ms/step\n",
      "              precision    recall  f1-score   support\n",
      "\n",
      "           0       0.85      0.82      0.84      1814\n",
      "           1       0.57      0.57      0.57       633\n",
      "           2       0.61      0.68      0.64       442\n",
      "\n",
      "    accuracy                           0.75      2889\n",
      "   macro avg       0.68      0.69      0.68      2889\n",
      "weighted avg       0.75      0.75      0.75      2889\n",
      "\n"
     ]
    }
   ],
   "source": [
    "original_aug = model_training(x_train_aug, x_test, y_train_aug, y_test, 'Original Augmented', epochs=11)"
   ]
  },
  {
   "cell_type": "code",
   "execution_count": 85,
   "id": "2002482a",
   "metadata": {},
   "outputs": [
    {
     "data": {
      "text/plain": [
       "{'model': <keras.engine.sequential.Sequential at 0x7f75f9d2fdf0>,\n",
       " 'history': <keras.callbacks.History at 0x7f75874401f0>,\n",
       " 'prediction': {'prediction': array([[9.9974394e-01, 1.5052196e-04, 1.0560024e-04],\n",
       "         [9.4805044e-01, 5.1029526e-02, 9.1997802e-04],\n",
       "         [4.8037931e-01, 1.6611496e-01, 3.5350582e-01],\n",
       "         ...,\n",
       "         [9.9999958e-01, 8.1288711e-08, 2.5186597e-07],\n",
       "         [9.9999851e-01, 6.7413748e-07, 7.1870460e-07],\n",
       "         [9.9990189e-01, 7.7229663e-05, 2.0887264e-05]], dtype=float32),\n",
       "  'f1_score': 0.7638739904383247,\n",
       "  'matthews_corr': 0.5577353383967586,\n",
       "  'recall': 0.7639321564555209,\n",
       "  'jaccard_score': 0.6310662011113428}}"
      ]
     },
     "execution_count": 85,
     "metadata": {},
     "output_type": "execute_result"
    }
   ],
   "source": [
    "original"
   ]
  },
  {
   "cell_type": "code",
   "execution_count": 86,
   "id": "9f61e91f",
   "metadata": {},
   "outputs": [
    {
     "data": {
      "text/plain": [
       "{'model': <keras.engine.sequential.Sequential at 0x7f75877df850>,\n",
       " 'history': <keras.callbacks.History at 0x7f75832f9ff0>,\n",
       " 'prediction': {'prediction': array([[9.9946392e-01, 5.3283951e-04, 3.2940388e-06],\n",
       "         [9.9999958e-01, 3.8019709e-07, 4.2915016e-10],\n",
       "         [9.4009709e-01, 5.9230242e-02, 6.7271938e-04],\n",
       "         ...,\n",
       "         [4.1976357e-01, 5.7821184e-01, 2.0246145e-03],\n",
       "         [5.2434611e-01, 4.1538933e-01, 6.0264546e-02],\n",
       "         [9.3019360e-01, 6.4498179e-02, 5.3082476e-03]], dtype=float32),\n",
       "  'f1_score': 0.7530235122944751,\n",
       "  'matthews_corr': 0.5449165159476862,\n",
       "  'recall': 0.757172131147541,\n",
       "  'jaccard_score': 0.6191040672397071}}"
      ]
     },
     "execution_count": 86,
     "metadata": {},
     "output_type": "execute_result"
    }
   ],
   "source": [
    "original_sentiment"
   ]
  },
  {
   "cell_type": "code",
   "execution_count": 87,
   "id": "4c68168d",
   "metadata": {},
   "outputs": [
    {
     "data": {
      "text/plain": [
       "{'model': <keras.engine.sequential.Sequential at 0x7f7592f91270>,\n",
       " 'history': <keras.callbacks.History at 0x7f759299dff0>,\n",
       " 'prediction': {'prediction': array([[9.9999839e-01, 1.5949201e-06, 5.1632554e-08],\n",
       "         [9.3241239e-01, 6.6149205e-02, 1.4384105e-03],\n",
       "         [9.6395618e-01, 2.5146706e-02, 1.0897100e-02],\n",
       "         ...,\n",
       "         [9.9933356e-01, 4.9848447e-04, 1.6802919e-04],\n",
       "         [9.9948853e-01, 5.0905027e-04, 2.3595935e-06],\n",
       "         [9.9924493e-01, 7.4750424e-04, 7.5824305e-06]], dtype=float32),\n",
       "  'f1_score': 0.7472332143980832,\n",
       "  'matthews_corr': 0.5312191561959563,\n",
       "  'recall': 0.7455867082035307,\n",
       "  'jaccard_score': 0.609709003537888}}"
      ]
     },
     "execution_count": 87,
     "metadata": {},
     "output_type": "execute_result"
    }
   ],
   "source": [
    "original_aug"
   ]
  }
 ],
 "metadata": {
  "kernelspec": {
   "display_name": "Python 3 (ipykernel)",
   "language": "python",
   "name": "python3"
  },
  "language_info": {
   "codemirror_mode": {
    "name": "ipython",
    "version": 3
   },
   "file_extension": ".py",
   "mimetype": "text/x-python",
   "name": "python",
   "nbconvert_exporter": "python",
   "pygments_lexer": "ipython3",
   "version": "3.10.6"
  }
 },
 "nbformat": 4,
 "nbformat_minor": 5
}
