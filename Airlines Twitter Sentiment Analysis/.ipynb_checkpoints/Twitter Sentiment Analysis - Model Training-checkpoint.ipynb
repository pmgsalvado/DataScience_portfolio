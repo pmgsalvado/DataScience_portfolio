{
 "cells": [
  {
   "cell_type": "code",
   "execution_count": 112,
   "id": "fe1c7ade",
   "metadata": {},
   "outputs": [],
   "source": [
    "import numpy as np\n",
    "import pandas as pd\n",
    "import matplotlib.pyplot as plt\n",
    "\n",
    "\n",
    "#\n",
    "from sklearn.utils import shuffle\n",
    "from sklearn.model_selection import train_test_split\n",
    "from sklearn.preprocessing import OneHotEncoder\n",
    "# Resample\n",
    "from imblearn import over_sampling\n",
    "\n",
    "# ML\n",
    "from tensorflow import keras\n",
    "from tensorflow.keras.preprocessing.text import Tokenizer\n",
    "from tensorflow.keras.preprocessing.sequence import pad_sequences\n",
    "\n",
    "from tensorflow.keras.models import Sequential\n",
    "from tensorflow.keras.layers import InputLayer, Embedding, Conv1D, MaxPool1D, Dense, Dropout, Bidirectional, TextVectorization"
   ]
  },
  {
   "cell_type": "code",
   "execution_count": 86,
   "id": "4b927daa",
   "metadata": {},
   "outputs": [],
   "source": [
    "# Function to verify training history\n",
    "def plot_history(history: list):\n",
    "    \n",
    "    legend = ['Train', 'Validation']\n",
    "    \n",
    "    key_list = list(history.history.keys())\n",
    "    plt.figure(figsize=(6,3*int((len(key_list))/2)))\n",
    "    for val, metric in enumerate(key_list[0:int((len(key_list))/2)]):\n",
    "        plt.subplot(int((len(key_list))/2), 1, val+1)\n",
    "        plt.plot(history.history[metric])\n",
    "        plt.plot(history.history['val_'+ metric])\n",
    "        plt.xlabel('Epochs')\n",
    "        plt.ylabel(metric)\n",
    "        plt.legend(legend, loc='best')"
   ]
  },
  {
   "cell_type": "code",
   "execution_count": 87,
   "id": "63e2ece9",
   "metadata": {},
   "outputs": [
    {
     "data": {
      "text/html": [
       "<div>\n",
       "<style scoped>\n",
       "    .dataframe tbody tr th:only-of-type {\n",
       "        vertical-align: middle;\n",
       "    }\n",
       "\n",
       "    .dataframe tbody tr th {\n",
       "        vertical-align: top;\n",
       "    }\n",
       "\n",
       "    .dataframe thead th {\n",
       "        text-align: right;\n",
       "    }\n",
       "</style>\n",
       "<table border=\"1\" class=\"dataframe\">\n",
       "  <thead>\n",
       "    <tr style=\"text-align: right;\">\n",
       "      <th></th>\n",
       "      <th>airline_sentiment</th>\n",
       "      <th>airline</th>\n",
       "      <th>text</th>\n",
       "      <th>text_preprocessed</th>\n",
       "    </tr>\n",
       "  </thead>\n",
       "  <tbody>\n",
       "    <tr>\n",
       "      <th>0</th>\n",
       "      <td>neutral</td>\n",
       "      <td>Virgin America</td>\n",
       "      <td>@VirginAmerica What @dhepburn said.</td>\n",
       "      <td>what said</td>\n",
       "    </tr>\n",
       "    <tr>\n",
       "      <th>1</th>\n",
       "      <td>positive</td>\n",
       "      <td>Virgin America</td>\n",
       "      <td>@VirginAmerica plus you've added commercials t...</td>\n",
       "      <td>plus you have added commercials to the experie...</td>\n",
       "    </tr>\n",
       "    <tr>\n",
       "      <th>2</th>\n",
       "      <td>neutral</td>\n",
       "      <td>Virgin America</td>\n",
       "      <td>@VirginAmerica I didn't today... Must mean I n...</td>\n",
       "      <td>i did not today must mean i need to take anoth...</td>\n",
       "    </tr>\n",
       "    <tr>\n",
       "      <th>3</th>\n",
       "      <td>negative</td>\n",
       "      <td>Virgin America</td>\n",
       "      <td>@VirginAmerica it's really aggressive to blast...</td>\n",
       "      <td>it is really aggressive to blast obnoxious ent...</td>\n",
       "    </tr>\n",
       "    <tr>\n",
       "      <th>4</th>\n",
       "      <td>negative</td>\n",
       "      <td>Virgin America</td>\n",
       "      <td>@VirginAmerica and it's a really big bad thing...</td>\n",
       "      <td>and it is a really big bad thing about it</td>\n",
       "    </tr>\n",
       "    <tr>\n",
       "      <th>...</th>\n",
       "      <td>...</td>\n",
       "      <td>...</td>\n",
       "      <td>...</td>\n",
       "      <td>...</td>\n",
       "    </tr>\n",
       "    <tr>\n",
       "      <th>14635</th>\n",
       "      <td>positive</td>\n",
       "      <td>American</td>\n",
       "      <td>@AmericanAir thank you we got on a different f...</td>\n",
       "      <td>thank you we got on a different flight to chicago</td>\n",
       "    </tr>\n",
       "    <tr>\n",
       "      <th>14636</th>\n",
       "      <td>negative</td>\n",
       "      <td>American</td>\n",
       "      <td>@AmericanAir leaving over 20 minutes Late Flig...</td>\n",
       "      <td>leaving over 20 minutes late flight no warning...</td>\n",
       "    </tr>\n",
       "    <tr>\n",
       "      <th>14637</th>\n",
       "      <td>neutral</td>\n",
       "      <td>American</td>\n",
       "      <td>@AmericanAir Please bring American Airlines to...</td>\n",
       "      <td>please bring american airlines to</td>\n",
       "    </tr>\n",
       "    <tr>\n",
       "      <th>14638</th>\n",
       "      <td>negative</td>\n",
       "      <td>American</td>\n",
       "      <td>@AmericanAir you have my money, you change my ...</td>\n",
       "      <td>you have my money you change my flight and do ...</td>\n",
       "    </tr>\n",
       "    <tr>\n",
       "      <th>14639</th>\n",
       "      <td>neutral</td>\n",
       "      <td>American</td>\n",
       "      <td>@AmericanAir we have 8 ppl so we need 2 know h...</td>\n",
       "      <td>we have 8 ppl so we need 2 know how many seats...</td>\n",
       "    </tr>\n",
       "  </tbody>\n",
       "</table>\n",
       "<p>14640 rows × 4 columns</p>\n",
       "</div>"
      ],
      "text/plain": [
       "      airline_sentiment         airline  \\\n",
       "0               neutral  Virgin America   \n",
       "1              positive  Virgin America   \n",
       "2               neutral  Virgin America   \n",
       "3              negative  Virgin America   \n",
       "4              negative  Virgin America   \n",
       "...                 ...             ...   \n",
       "14635          positive        American   \n",
       "14636          negative        American   \n",
       "14637           neutral        American   \n",
       "14638          negative        American   \n",
       "14639           neutral        American   \n",
       "\n",
       "                                                    text  \\\n",
       "0                    @VirginAmerica What @dhepburn said.   \n",
       "1      @VirginAmerica plus you've added commercials t...   \n",
       "2      @VirginAmerica I didn't today... Must mean I n...   \n",
       "3      @VirginAmerica it's really aggressive to blast...   \n",
       "4      @VirginAmerica and it's a really big bad thing...   \n",
       "...                                                  ...   \n",
       "14635  @AmericanAir thank you we got on a different f...   \n",
       "14636  @AmericanAir leaving over 20 minutes Late Flig...   \n",
       "14637  @AmericanAir Please bring American Airlines to...   \n",
       "14638  @AmericanAir you have my money, you change my ...   \n",
       "14639  @AmericanAir we have 8 ppl so we need 2 know h...   \n",
       "\n",
       "                                       text_preprocessed  \n",
       "0                                              what said  \n",
       "1      plus you have added commercials to the experie...  \n",
       "2      i did not today must mean i need to take anoth...  \n",
       "3      it is really aggressive to blast obnoxious ent...  \n",
       "4              and it is a really big bad thing about it  \n",
       "...                                                  ...  \n",
       "14635  thank you we got on a different flight to chicago  \n",
       "14636  leaving over 20 minutes late flight no warning...  \n",
       "14637                  please bring american airlines to  \n",
       "14638  you have my money you change my flight and do ...  \n",
       "14639  we have 8 ppl so we need 2 know how many seats...  \n",
       "\n",
       "[14640 rows x 4 columns]"
      ]
     },
     "execution_count": 87,
     "metadata": {},
     "output_type": "execute_result"
    }
   ],
   "source": [
    "airline_review = pd.read_csv('Airline-Sentiment_processed.csv')\n",
    "airline_review"
   ]
  },
  {
   "cell_type": "markdown",
   "id": "39618378",
   "metadata": {},
   "source": [
    "<p>Before proceeding we will check the max length of a sentence, to define the overall length of our vectors</p>"
   ]
  },
  {
   "cell_type": "code",
   "execution_count": 88,
   "id": "3fb5a717",
   "metadata": {},
   "outputs": [],
   "source": [
    "max_ = 0\n",
    "for tweets in airline_review['text_preprocessed']:\n",
    "    if len(tweets.split()) > max_:\n",
    "        max_ = len(tweets)"
   ]
  },
  {
   "cell_type": "code",
   "execution_count": 89,
   "id": "20e0766c",
   "metadata": {},
   "outputs": [
    {
     "data": {
      "text/plain": [
       "53"
      ]
     },
     "execution_count": 89,
     "metadata": {},
     "output_type": "execute_result"
    }
   ],
   "source": [
    "max_\n"
   ]
  },
  {
   "cell_type": "markdown",
   "id": "d18e8609",
   "metadata": {},
   "source": [
    "<h2>We have seen that the data is imbalanced, but at this stage let's forget that and make it a working notebook and we'll address that \"issue\" later and see if with resampling we can improve the results</h2>"
   ]
  },
  {
   "cell_type": "markdown",
   "id": "b1323b75",
   "metadata": {},
   "source": [
    "<h3>Split into training data and validation data</h3>"
   ]
  },
  {
   "cell_type": "code",
   "execution_count": 90,
   "id": "0c36288f",
   "metadata": {},
   "outputs": [
    {
     "name": "stdout",
     "output_type": "stream",
     "text": [
      "Train size: 11712\n",
      "Train text size: (11712,)\n",
      "Train Sentiment size: (11712,)\n",
      "-------------//---------------\n",
      "Valid text size: (2928,)\n",
      "Valid Sentiment size: (2928,)\n"
     ]
    }
   ],
   "source": [
    "training_portion = 0.8\n",
    "airline_review = shuffle(airline_review)\n",
    "airline_review = shuffle(airline_review)\n",
    "\n",
    "train_size = int(airline_review.shape[0] * training_portion)\n",
    "print(\"Train size: {}\".format(train_size))\n",
    "x_train, x_val, y_train, y_val = train_test_split(airline_review['text_preprocessed'], airline_review['airline_sentiment'],\n",
    "                                                 train_size=0.8,random_state=123)\n",
    "\n",
    "print(\"Train text size: {}\".format(x_train.shape))\n",
    "print(\"Train Sentiment size: {}\".format(y_train.shape))\n",
    "print('-------------//---------------')\n",
    "print(\"Valid text size: {}\".format(x_val.shape))\n",
    "print(\"Valid Sentiment size: {}\".format(y_val.shape))\n"
   ]
  },
  {
   "cell_type": "code",
   "execution_count": 91,
   "id": "3507ddd7",
   "metadata": {},
   "outputs": [],
   "source": [
    "vocab_size = 20000\n",
    "embedding_dim = 64\n",
    "max_length = max_ + 10\n",
    "trunc_type = 'post'\n",
    "padding_type = 'post'\n",
    "oov_tok = '<OOV>'"
   ]
  },
  {
   "cell_type": "markdown",
   "id": "d81483bd",
   "metadata": {},
   "source": [
    "<h3>Tokenization of our dataset</h3>"
   ]
  },
  {
   "cell_type": "code",
   "execution_count": 92,
   "id": "103b5cbc",
   "metadata": {},
   "outputs": [],
   "source": [
    "tokenizer = Tokenizer(num_words=20000, # it will only consider the 20000 most common words\n",
    "                      oov_token=oov_tok) # oov_token is to put a special value in when an unseen word is encountered\n",
    "\n",
    "tokenizer.fit_on_texts(x_train)\n",
    "word_index = tokenizer.word_index"
   ]
  },
  {
   "cell_type": "markdown",
   "id": "b52b4bd9",
   "metadata": {},
   "source": [
    "<h3>Tweets to sequences.</h3>"
   ]
  },
  {
   "cell_type": "code",
   "execution_count": 93,
   "id": "1f460bc9",
   "metadata": {},
   "outputs": [],
   "source": [
    "x_train_sequences = tokenizer.texts_to_sequences(x_train)\n",
    "#x_train_sequences"
   ]
  },
  {
   "cell_type": "markdown",
   "id": "d330b1f4",
   "metadata": {},
   "source": [
    "<h3>Pad sequences. Make all sentences the same length</h3>"
   ]
  },
  {
   "cell_type": "code",
   "execution_count": 103,
   "id": "c74a8dc6",
   "metadata": {},
   "outputs": [],
   "source": [
    "x_train_padded = pad_sequences(x_train_sequences, maxlen=max_length,\n",
    "                               padding=padding_type, truncating=trunc_type,\n",
    "                              )"
   ]
  },
  {
   "cell_type": "code",
   "execution_count": 104,
   "id": "ed39ac40",
   "metadata": {},
   "outputs": [],
   "source": [
    "x_val_sequences = tokenizer.texts_to_sequences(x_val)\n",
    "x_val_padded = pad_sequences(x_val_sequences, maxlen=max_length,\n",
    "                            padding=padding_type, truncating=trunc_type)"
   ]
  },
  {
   "cell_type": "code",
   "execution_count": 105,
   "id": "8cec1eb0",
   "metadata": {},
   "outputs": [
    {
     "data": {
      "text/plain": [
       "((11712, 63), (2928, 63))"
      ]
     },
     "execution_count": 105,
     "metadata": {},
     "output_type": "execute_result"
    }
   ],
   "source": [
    "x_train_padded.shape, x_val_padded.shape"
   ]
  },
  {
   "cell_type": "markdown",
   "id": "d8d66032",
   "metadata": {},
   "source": [
    "<h3>Token our target</h3>\n"
   ]
  },
  {
   "cell_type": "code",
   "execution_count": 106,
   "id": "f7696d20",
   "metadata": {},
   "outputs": [],
   "source": [
    "label_tokenizer = Tokenizer()\n",
    "label_tokenizer.fit_on_texts(y_train)\n",
    "\n",
    "y_train_ = np.array(label_tokenizer.texts_to_sequences(y_train)) - 1\n",
    "y_val_ = np.array(label_tokenizer.texts_to_sequences(y_val)) - 1"
   ]
  },
  {
   "cell_type": "code",
   "execution_count": 107,
   "id": "c89954eb",
   "metadata": {},
   "outputs": [
    {
     "data": {
      "text/plain": [
       "(0, 2)"
      ]
     },
     "execution_count": 107,
     "metadata": {},
     "output_type": "execute_result"
    }
   ],
   "source": [
    "y_train_.min(), y_train_.max()"
   ]
  },
  {
   "cell_type": "code",
   "execution_count": null,
   "id": "5b16310b",
   "metadata": {},
   "outputs": [],
   "source": []
  },
  {
   "cell_type": "markdown",
   "id": "763ac731",
   "metadata": {},
   "source": [
    "<h3>Model Definition with \"our\" Embedding Matrix</h3>"
   ]
  },
  {
   "cell_type": "code",
   "execution_count": 108,
   "id": "dc309be2",
   "metadata": {},
   "outputs": [
    {
     "name": "stdout",
     "output_type": "stream",
     "text": [
      "Model: \"sequential_6\"\n",
      "_________________________________________________________________\n",
      " Layer (type)                Output Shape              Param #   \n",
      "=================================================================\n",
      " embedding_7 (Embedding)     (None, None, 64)          1280000   \n",
      "                                                                 \n",
      " bidirectional_6 (Bidirectio  (None, 128)              66048     \n",
      " nal)                                                            \n",
      "                                                                 \n",
      " dense_12 (Dense)            (None, 64)                8256      \n",
      "                                                                 \n",
      " dropout_1 (Dropout)         (None, 64)                0         \n",
      "                                                                 \n",
      " dense_13 (Dense)            (None, 3)                 195       \n",
      "                                                                 \n",
      "=================================================================\n",
      "Total params: 1,354,499\n",
      "Trainable params: 1,354,499\n",
      "Non-trainable params: 0\n",
      "_________________________________________________________________\n"
     ]
    }
   ],
   "source": [
    "# define model\n",
    "\n",
    "model = Sequential([\n",
    "    # Add an Embedding layer expecting input vocab of size 5000, and output embedding dimension of size 64 we set at the top\n",
    "    keras.layers.Embedding(vocab_size, embedding_dim),\n",
    "    keras.layers.Bidirectional(keras.layers.LSTM(embedding_dim)),\n",
    "#    tf.keras.layers.Bidirectional(tf.keras.layers.LSTM(32)),\n",
    "    # use ReLU in place of tanh function since they are very good alternatives of each other.\n",
    "    keras.layers.Dense(embedding_dim, activation='relu'),\n",
    "    # Add a Dense layer with 6 units and softmax activation.\n",
    "    # When we have multiple outputs, softmax convert outputs layers into a probability distribution.\n",
    "    keras.layers.Dropout(0.4),\n",
    "    keras.layers.Dense(3, activation='softmax')\n",
    "])\n",
    "model.summary()"
   ]
  },
  {
   "cell_type": "code",
   "execution_count": 109,
   "id": "8c1c2785",
   "metadata": {},
   "outputs": [
    {
     "name": "stdout",
     "output_type": "stream",
     "text": [
      "Epoch 1/10\n",
      "366/366 [==============================] - 27s 64ms/step - loss: 0.6794 - accuracy: 0.7147 - val_loss: 0.5335 - val_accuracy: 0.7941\n",
      "Epoch 2/10\n",
      "366/366 [==============================] - 22s 60ms/step - loss: 0.4317 - accuracy: 0.8394 - val_loss: 0.5285 - val_accuracy: 0.7961\n",
      "Epoch 3/10\n",
      "366/366 [==============================] - 22s 61ms/step - loss: 0.3102 - accuracy: 0.8870 - val_loss: 0.5767 - val_accuracy: 0.7906\n",
      "Epoch 4/10\n",
      "366/366 [==============================] - 20s 56ms/step - loss: 0.2368 - accuracy: 0.9182 - val_loss: 0.6632 - val_accuracy: 0.7906\n",
      "Epoch 5/10\n",
      "366/366 [==============================] - 21s 57ms/step - loss: 0.1890 - accuracy: 0.9356 - val_loss: 0.7035 - val_accuracy: 0.7725\n",
      "Epoch 6/10\n",
      "366/366 [==============================] - 22s 60ms/step - loss: 0.1480 - accuracy: 0.9507 - val_loss: 0.8071 - val_accuracy: 0.7582\n",
      "Epoch 7/10\n",
      "366/366 [==============================] - 21s 56ms/step - loss: 0.1224 - accuracy: 0.9582 - val_loss: 0.8967 - val_accuracy: 0.7643\n",
      "Epoch 8/10\n",
      "366/366 [==============================] - 20s 55ms/step - loss: 0.1063 - accuracy: 0.9652 - val_loss: 1.0175 - val_accuracy: 0.7520\n",
      "Epoch 9/10\n",
      "366/366 [==============================] - 23s 62ms/step - loss: 0.0884 - accuracy: 0.9693 - val_loss: 1.2222 - val_accuracy: 0.7602\n",
      "Epoch 10/10\n",
      "366/366 [==============================] - 22s 61ms/step - loss: 0.0827 - accuracy: 0.9720 - val_loss: 1.2531 - val_accuracy: 0.7544\n"
     ]
    }
   ],
   "source": [
    "model.compile(loss='sparse_categorical_crossentropy', optimizer='adam', metrics=['accuracy'])\n",
    "num_epochs = 10\n",
    "history = model.fit(x_train_padded,\n",
    "                    y_train_,\n",
    "                    epochs=num_epochs,\n",
    "                    validation_data=(x_val_padded, y_val_),\n",
    "                    verbose=1)"
   ]
  },
  {
   "cell_type": "code",
   "execution_count": 110,
   "id": "a3378ffc",
   "metadata": {},
   "outputs": [
    {
     "data": {
      "image/png": "[encoded data removed]",
      "text/plain": [
       "<Figure size 600x600 with 2 Axes>"
      ]
     },
     "metadata": {},
     "output_type": "display_data"
    }
   ],
   "source": [
    "plot_history(history)"
   ]
  },
  {
   "cell_type": "markdown",
   "id": "ce3ad26d",
   "metadata": {},
   "source": [
    "<h3>Model definition with pretrained word embedding</h3>"
   ]
  },
  {
   "cell_type": "code",
   "execution_count": 119,
   "id": "db6443be",
   "metadata": {},
   "outputs": [
    {
     "name": "stdout",
     "output_type": "stream",
     "text": [
      "Found 400000 word vectors.\n"
     ]
    }
   ],
   "source": [
    "path_to_glove_file = os.path.join(\n",
    "    os.path.expanduser(\"~\"), \"/home/salvado/Documents/TensorFlow/glove/glove.6B.200d.txt\"\n",
    ")\n",
    "\n",
    "embeddings_index = {}\n",
    "with open(path_to_glove_file) as f:\n",
    "    for line in f:\n",
    "        word, coefs = line.split(maxsplit=1)\n",
    "        coefs = np.fromstring(coefs, \"f\", sep=\" \")\n",
    "        embeddings_index[word] = coefs\n",
    "\n",
    "print(\"Found %s word vectors.\" % len(embeddings_index))"
   ]
  },
  {
   "cell_type": "markdown",
   "id": "e92b34c6",
   "metadata": {},
   "source": [
    "<p>At this point we are going to prepare the embedding matrix to be used as our first layer of our model</p>\n",
    "<p>First Step: TextVectorization.</p>"
   ]
  },
  {
   "cell_type": "code",
   "execution_count": 120,
   "id": "70e7a083",
   "metadata": {},
   "outputs": [
    {
     "data": {
      "text/plain": [
       "10516"
      ]
     },
     "execution_count": 120,
     "metadata": {},
     "output_type": "execute_result"
    }
   ],
   "source": [
    "vectorizer = TextVectorization(max_tokens=20000,output_sequence_length=max_length,)\n",
    "\n",
    "vectorizer.adapt(x_train)\n",
    "vocabulary = vectorizer.get_vocabulary()\n",
    "len(vocabulary)"
   ]
  },
  {
   "cell_type": "code",
   "execution_count": 115,
   "id": "921143a6",
   "metadata": {},
   "outputs": [],
   "source": [
    "# create a word_index dictionary\n",
    "word_index = dict(zip(vocabulary, range(len(vocabulary))))"
   ]
  },
  {
   "cell_type": "code",
   "execution_count": 118,
   "id": "fca912bc",
   "metadata": {},
   "outputs": [
    {
     "name": "stdout",
     "output_type": "stream",
     "text": [
      "Converted 8913 words (1603 misses)\n"
     ]
    }
   ],
   "source": [
    "# matrix embedding preparation\n",
    "num_tokens = len(vocabulary) + 2\n",
    "embedding_dim = 100\n",
    "hits = 0\n",
    "misses = 0\n",
    "\n",
    "# Prepare embedding matrix\n",
    "embedding_matrix = np.zeros((num_tokens, embedding_dim))\n",
    "for word, i in word_index.items():\n",
    "    embedding_vector = embeddings_index.get(word)\n",
    "    if embedding_vector is not None:\n",
    "        # Words not found in embedding index will be all-zeros.\n",
    "        # This includes the representation for \"padding\" and \"OOV\"\n",
    "        embedding_matrix[i] = embedding_vector\n",
    "        hits += 1\n",
    "    else:\n",
    "        misses += 1\n",
    "print(\"Converted %d words (%d misses)\" % (hits, misses))"
   ]
  },
  {
   "cell_type": "markdown",
   "id": "b17acd03",
   "metadata": {},
   "source": [
    "<p>At this point we have our embedding matrix created</p>"
   ]
  },
  {
   "cell_type": "code",
   "execution_count": 126,
   "id": "a3acde3e",
   "metadata": {},
   "outputs": [],
   "source": [
    "# train the model\n",
    "\n",
    "x_train = vectorizer(np.array([[s] for s in x_train])).numpy()\n",
    "x_val = vectorizer(np.array([[s] for s in x_val])).numpy()"
   ]
  },
  {
   "cell_type": "code",
   "execution_count": 122,
   "id": "f92a6738",
   "metadata": {},
   "outputs": [],
   "source": [
    "# let's load the pretrained word embeddings matrix into the Embedding layer\n",
    "embedding_layer = Embedding(input_dim=num_tokens,\n",
    "                            output_dim=embedding_dim,\n",
    "                            embeddings_initializer=keras.initializers.Constant(embedding_matrix),\n",
    "                            trainable=False\n",
    "                           )"
   ]
  },
  {
   "cell_type": "code",
   "execution_count": 130,
   "id": "c97fd286",
   "metadata": {},
   "outputs": [
    {
     "name": "stdout",
     "output_type": "stream",
     "text": [
      "Model: \"sequential_9\"\n",
      "_________________________________________________________________\n",
      " Layer (type)                Output Shape              Param #   \n",
      "=================================================================\n",
      " embedding_8 (Embedding)     (None, None, 100)         1051800   \n",
      "                                                                 \n",
      " bidirectional_9 (Bidirectio  (None, 200)              160800    \n",
      " nal)                                                            \n",
      "                                                                 \n",
      " dense_18 (Dense)            (None, 100)               20100     \n",
      "                                                                 \n",
      " dropout_3 (Dropout)         (None, 100)               0         \n",
      "                                                                 \n",
      " dense_19 (Dense)            (None, 100)               10100     \n",
      "                                                                 \n",
      " dropout_4 (Dropout)         (None, 100)               0         \n",
      "                                                                 \n",
      " dense_20 (Dense)            (None, 3)                 303       \n",
      "                                                                 \n",
      "=================================================================\n",
      "Total params: 1,243,103\n",
      "Trainable params: 191,303\n",
      "Non-trainable params: 1,051,800\n",
      "_________________________________________________________________\n"
     ]
    }
   ],
   "source": [
    "# define model\n",
    "\n",
    "model = Sequential([\n",
    "    # Add an Embedding layer expecting input vocab of size 5000, and output embedding dimension of size 64 we set at the top\n",
    "    #keras.layers.Embedding(vocab_size, embedding_dim),\n",
    "    embedding_layer,\n",
    "    keras.layers.Bidirectional(keras.layers.LSTM(embedding_dim)),\n",
    "#    tf.keras.layers.Bidirectional(tf.keras.layers.LSTM(32)),\n",
    "    # use ReLU in place of tanh function since they are very good alternatives of each other.\n",
    "    keras.layers.Dense(embedding_dim, activation='relu'),\n",
    "    keras.layers.Dropout(0.3),\n",
    "    keras.layers.Dense(embedding_dim, activation='relu'),\n",
    "    keras.layers.Dropout(0.3),\n",
    "    # Add a Dense layer with 6 units and softmax activation.\n",
    "    # When we have multiple outputs, softmax convert outputs layers into a probability distribution.\n",
    "    #keras.layers.Dropout(0.4),\n",
    "    keras.layers.Dense(3, activation='softmax')\n",
    "])\n",
    "model.summary()"
   ]
  },
  {
   "cell_type": "code",
   "execution_count": 131,
   "id": "998d0fea",
   "metadata": {},
   "outputs": [
    {
     "name": "stdout",
     "output_type": "stream",
     "text": [
      "Epoch 1/10\n",
      "366/366 [==============================] - 28s 69ms/step - loss: 0.7019 - accuracy: 0.7166 - val_loss: 0.6132 - val_accuracy: 0.7534\n",
      "Epoch 2/10\n",
      "366/366 [==============================] - 24s 67ms/step - loss: 0.5743 - accuracy: 0.7705 - val_loss: 0.5793 - val_accuracy: 0.7661\n",
      "Epoch 3/10\n",
      "366/366 [==============================] - 24s 66ms/step - loss: 0.5345 - accuracy: 0.7911 - val_loss: 0.5768 - val_accuracy: 0.7708\n",
      "Epoch 4/10\n",
      "366/366 [==============================] - 24s 66ms/step - loss: 0.5043 - accuracy: 0.7970 - val_loss: 0.5466 - val_accuracy: 0.7838\n",
      "Epoch 5/10\n",
      "366/366 [==============================] - 24s 67ms/step - loss: 0.4728 - accuracy: 0.8163 - val_loss: 0.5413 - val_accuracy: 0.7852\n",
      "Epoch 6/10\n",
      "366/366 [==============================] - 24s 67ms/step - loss: 0.4366 - accuracy: 0.8270 - val_loss: 0.5667 - val_accuracy: 0.7753\n",
      "Epoch 7/10\n",
      "366/366 [==============================] - 24s 67ms/step - loss: 0.4113 - accuracy: 0.8375 - val_loss: 0.5682 - val_accuracy: 0.7688\n",
      "Epoch 8/10\n",
      "366/366 [==============================] - 24s 67ms/step - loss: 0.3786 - accuracy: 0.8531 - val_loss: 0.6001 - val_accuracy: 0.7828\n",
      "Epoch 9/10\n",
      "366/366 [==============================] - 25s 69ms/step - loss: 0.3432 - accuracy: 0.8666 - val_loss: 0.6008 - val_accuracy: 0.7862\n",
      "Epoch 10/10\n",
      "366/366 [==============================] - 25s 67ms/step - loss: 0.3097 - accuracy: 0.8783 - val_loss: 0.6310 - val_accuracy: 0.7889\n"
     ]
    }
   ],
   "source": [
    "model.compile(loss='sparse_categorical_crossentropy', optimizer='adam', metrics=['accuracy'])\n",
    "num_epochs = 10\n",
    "history = model.fit(x_train,\n",
    "                    y_train_,\n",
    "                    epochs=num_epochs,\n",
    "                    validation_data=(x_val, y_val_),\n",
    "                    verbose=1)"
   ]
  }
 ],
 "metadata": {
  "kernelspec": {
   "display_name": "Python 3 (ipykernel)",
   "language": "python",
   "name": "python3"
  },
  "language_info": {
   "codemirror_mode": {
    "name": "ipython",
    "version": 3
   },
   "file_extension": ".py",
   "mimetype": "text/x-python",
   "name": "python",
   "nbconvert_exporter": "python",
   "pygments_lexer": "ipython3",
   "version": "3.10.6"
  }
 },
 "nbformat": 4,
 "nbformat_minor": 5
}
